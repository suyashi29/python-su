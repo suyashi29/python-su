{
 "cells": [
  {
   "cell_type": "markdown",
   "id": "c7afb63b",
   "metadata": {},
   "source": [
    "- numpy==1.26.4\n",
    "- pandas==2.2.2\n",
    "- matplotlib==3.7.5\n",
    "- seaborn==0.13.2\n",
    "- scikit-learn==1.5.1\n",
    "- autoviz==0.1.905\n",
    "- dtale==3.13.0\n",
    "- streamlit==1.38.0\n",
    "- plotly==5.24.1\n",
    "- transformers==4.44.2\n"
   ]
  },
  {
   "cell_type": "raw",
   "id": "d24311ad",
   "metadata": {},
   "source": [
    "!conda create -n genai_demo python=3.10 -y\n",
    "!conda activate genai_demo\n",
    "!pip install -r requirements.txt\n"
   ]
  },
  {
   "cell_type": "code",
   "execution_count": 1,
   "id": "b4bb6053",
   "metadata": {},
   "outputs": [
    {
     "name": "stdout",
     "output_type": "stream",
     "text": [
      "Requirement already satisfied: faker in c:\\users\\suyashi144893\\appdata\\local\\anaconda3\\lib\\site-packages (37.8.0)Note: you may need to restart the kernel to use updated packages.\n",
      "\n",
      "Requirement already satisfied: tzdata in c:\\users\\suyashi144893\\appdata\\local\\anaconda3\\lib\\site-packages (from faker) (2023.3)\n"
     ]
    }
   ],
   "source": [
    "pip install faker"
   ]
  },
  {
   "cell_type": "code",
   "execution_count": null,
   "id": "4a0b44b2",
   "metadata": {},
   "outputs": [],
   "source": [
    "pip install streamlit"
   ]
  },
  {
   "cell_type": "code",
   "execution_count": null,
   "id": "7388a3ee",
   "metadata": {},
   "outputs": [],
   "source": [
    "!streamlit run streamlit_app.py --server.port 8502 --server.headless true\n"
   ]
  },
  {
   "cell_type": "code",
   "execution_count": 7,
   "id": "bfa76e31",
   "metadata": {},
   "outputs": [
    {
     "name": "stdout",
     "output_type": "stream",
     "text": [
      "Overwriting streamlit_app.py\n"
     ]
    }
   ],
   "source": [
    "%%writefile streamlit_app.py\n",
    "import streamlit as st\n",
    "import pandas as pd\n",
    "import numpy as np\n",
    "\n",
    "# Title\n",
    "st.title(\"📊 Auto Dashboard Demo\")\n",
    "\n",
    "# Generate random dataset\n",
    "df = pd.DataFrame({\n",
    "    \"age\": np.random.randint(20, 60, 50),\n",
    "    \"salary\": np.random.randint(30000, 120000, 50),\n",
    "    \"department\": np.random.choice([\"HR\", \"Finance\", \"IT\", \"Marketing\"], 50)\n",
    "})\n",
    "\n",
    "# Show dataframe\n",
    "st.subheader(\"Dataset\")\n",
    "st.dataframe(df)\n",
    "\n",
    "# Basic plots\n",
    "st.subheader(\"Salary Distribution\")\n",
    "st.bar_chart(df[\"salary\"])\n",
    "\n",
    "st.subheader(\"Department Count\")\n",
    "st.bar_chart(df[\"department\"].value_counts())\n"
   ]
  },
  {
   "cell_type": "code",
   "execution_count": 8,
   "id": "ad0f2c01",
   "metadata": {},
   "outputs": [
    {
     "name": "stdout",
     "output_type": "stream",
     "text": [
      "        1 file(s) copied.\n"
     ]
    }
   ],
   "source": [
    "## !cp streamlit_app.py streamlit_app_v1.py  # Linux/Mac\n",
    "# OR for Windows:\n",
    "!copy streamlit_app.py streamlit_app_v1.py\n"
   ]
  },
  {
   "cell_type": "markdown",
   "id": "cf82d9b7",
   "metadata": {},
   "source": [
    "## A fully interactive demo with multiple visuals and automatic data description. This will make it feel like a real intelligent data handling dashboard."
   ]
  },
  {
   "cell_type": "code",
   "execution_count": 9,
   "id": "16fceaee",
   "metadata": {},
   "outputs": [
    {
     "name": "stdout",
     "output_type": "stream",
     "text": [
      "Overwriting streamlit_app.py\n"
     ]
    }
   ],
   "source": [
    "%%writefile streamlit_app.py\n",
    "import streamlit as st\n",
    "import pandas as pd\n",
    "import numpy as np\n",
    "import plotly.express as px\n",
    "\n",
    "st.set_page_config(page_title=\"AI Data Handling Dashboard\", layout=\"wide\")\n",
    "st.title(\"📊 Intelligent Data Handling Dashboard\")\n",
    "\n",
    "# -------------------------------\n",
    "# Generate Random Dataset\n",
    "# -------------------------------\n",
    "np.random.seed(42)\n",
    "df = pd.DataFrame({\n",
    "    \"CustomerID\": [f\"CUST{i:03d}\" for i in range(1, 101)],\n",
    "    \"Age\": np.random.randint(18, 65, 100),\n",
    "    \"Salary\": np.random.randint(30000, 120000, 100),\n",
    "    \"Department\": np.random.choice([\"HR\", \"Finance\", \"IT\", \"Marketing\"], 100),\n",
    "    \"PurchaseAmount\": np.round(np.random.uniform(50, 2000, 100), 2)\n",
    "})\n",
    "\n",
    "# -------------------------------\n",
    "# Dataset Info & Description\n",
    "# -------------------------------\n",
    "st.subheader(\"🔍 Dataset Overview\")\n",
    "st.write(\"Shape:\", df.shape)\n",
    "st.write(\"Columns:\", df.columns.tolist())\n",
    "st.write(\"Data Types:\")\n",
    "st.write(df.dtypes)\n",
    "st.write(\"Missing Values:\")\n",
    "st.write(df.isnull().sum())\n",
    "\n",
    "st.subheader(\"📊 Statistical Summary\")\n",
    "st.dataframe(df.describe().round(2))\n",
    "\n",
    "# -------------------------------\n",
    "# Interactive Filters\n",
    "# -------------------------------\n",
    "st.subheader(\"⚡ Interactive Filters\")\n",
    "department_filter = st.multiselect(\"Select Department(s):\", options=df[\"Department\"].unique(), default=df[\"Department\"].unique())\n",
    "filtered_df = df[df[\"Department\"].isin(department_filter)]\n",
    "st.write(f\"Filtered Data ({len(filtered_df)} rows)\")\n",
    "st.dataframe(filtered_df.head(10))\n",
    "\n",
    "# -------------------------------\n",
    "# Visualizations\n",
    "# -------------------------------\n",
    "st.subheader(\"📈 Visualizations\")\n",
    "\n",
    "col1, col2 = st.columns(2)\n",
    "\n",
    "with col1:\n",
    "    st.write(\"**Age Distribution**\")\n",
    "    fig_age = px.histogram(filtered_df, x=\"Age\", nbins=10, title=\"Age Distribution\")\n",
    "    st.plotly_chart(fig_age, use_container_width=True)\n",
    "\n",
    "with col2:\n",
    "    st.write(\"**Salary Distribution**\")\n",
    "    fig_salary = px.histogram(filtered_df, x=\"Salary\", nbins=10, title=\"Salary Distribution\")\n",
    "    st.plotly_chart(fig_salary, use_container_width=True)\n",
    "\n",
    "st.write(\"**Purchase Amount vs Age**\")\n",
    "fig_scatter = px.scatter(filtered_df, x=\"Age\", y=\"PurchaseAmount\", color=\"Department\", hover_data=[\"CustomerID\"])\n",
    "st.plotly_chart(fig_scatter, use_container_width=True)\n",
    "\n",
    "df_count = filtered_df[\"Department\"].value_counts().reset_index()\n",
    "df_count.columns = [\"Department\", \"Count\"]\n",
    "\n",
    "fig_count = px.bar(\n",
    "    df_count,\n",
    "    x=\"Department\",\n",
    "    y=\"Count\",\n",
    "    labels={\"Department\": \"Department\", \"Count\": \"Number of Employees\"},\n",
    "    title=\"Department Count\"\n",
    ")\n",
    "st.plotly_chart(fig_count, use_container_width=True)\n",
    "\n",
    "\n",
    "st.write(\"**Salary Boxplot by Department**\")\n",
    "fig_box = px.box(filtered_df, x=\"Department\", y=\"Salary\", color=\"Department\")\n",
    "st.plotly_chart(fig_box, use_container_width=True)\n"
   ]
  },
  {
   "cell_type": "code",
   "execution_count": 10,
   "id": "50e12063",
   "metadata": {},
   "outputs": [
    {
     "name": "stdout",
     "output_type": "stream",
     "text": [
      "\n",
      "Collecting usage statistics. To deactivate, set browser.gatherUsageStats to false.\n",
      "\n"
     ]
    },
    {
     "name": "stderr",
     "output_type": "stream",
     "text": [
      "2025-09-18 14:54:51.823 Port 8502 is already in use\n"
     ]
    }
   ],
   "source": [
    "!streamlit run streamlit_app.py --server.port 8502 --server.headless true"
   ]
  },
  {
   "cell_type": "code",
   "execution_count": null,
   "id": "f0017b5c",
   "metadata": {},
   "outputs": [],
   "source": [
    "!streamlit run streamlit_app.py --server.port 8502 --server.headless False\n"
   ]
  }
 ],
 "metadata": {
  "kernelspec": {
   "display_name": "Python 3 (ipykernel)",
   "language": "python",
   "name": "python3"
  },
  "language_info": {
   "codemirror_mode": {
    "name": "ipython",
    "version": 3
   },
   "file_extension": ".py",
   "mimetype": "text/x-python",
   "name": "python",
   "nbconvert_exporter": "python",
   "pygments_lexer": "ipython3",
   "version": "3.11.5"
  }
 },
 "nbformat": 4,
 "nbformat_minor": 5
}
