{
 "cells": [
  {
   "cell_type": "markdown",
   "id": "6f3821b6",
   "metadata": {},
   "source": [
    "\n",
    "\n",
    "### Recurrent Neural Networks (RNNs) are a type of neural network architecture that is particularly well-suited for tasks involving sequential data. Unlike feedforward neural networks, which process data in fixed-size chunks, RNNs can handle input sequences of arbitrary length.\n",
    "\n",
    "#### key features of RNNs:\n",
    "\n",
    "- Recurrent Connections: RNNs have recurrent connections that allow information to persist across different time steps in a sequence. This means that information from previous inputs is considered when processing the current input.\n",
    "\n",
    "- Shared Parameters: The same set of weights and biases are applied at each time step. This allows the network to use the same computation for different elements of the sequence.\n",
    "\n",
    "- Time Dependency: RNNs are well-suited for tasks where the order or temporal dependency of data matters, such as time series prediction, language modeling, and speech recognition.\n",
    "\n",
    "### The SimpleRNN layer processes sequences by iterating through the input sequence elements and maintaining a hidden state that captures information about the previous elements in the sequence.\n",
    "The RNN in the provided example consists of one layer of SimpleRNN (Recurrent Neural Network) followed by a Dense layer for classification.\n",
    "## The input to the RNN is a sequence of 28x28 pixels for each image in the MNIST dataset."
   ]
  },
  {
   "cell_type": "code",
   "execution_count": 2,
   "id": "2559bad0",
   "metadata": {},
   "outputs": [
    {
     "data": {
      "image/png": "[encoded data removed]",
      "text/plain": [
       "<Figure size 720x360 with 5 Axes>"
      ]
     },
     "metadata": {
      "needs_background": "light"
     },
     "output_type": "display_data"
    }
   ],
   "source": [
    "import numpy as np\n",
    "import matplotlib.pyplot as plt\n",
    "from keras.models import Sequential\n",
    "from keras.layers import SimpleRNN, Dense\n",
    "from keras.datasets import mnist\n",
    "from keras.utils import to_categorical\n",
    "\n",
    "# Load the MNIST dataset\n",
    "(train_images, train_labels), (test_images, test_labels) = mnist.load_data()\n",
    "\n",
    "# Print a few examples from the dataset\n",
    "plt.figure(figsize=(10, 5))\n",
    "for i in range(5):\n",
    "    plt.subplot(2, 5, i + 1)\n",
    "    plt.imshow(train_images[i], cmap='gray')\n",
    "    plt.title(f\"Label: {train_labels[i]}\")\n",
    "    plt.axis('off')\n",
    "\n",
    "plt.show()"
   ]
  },
  {
   "cell_type": "code",
   "execution_count": 3,
   "id": "3a91cc94",
   "metadata": {},
   "outputs": [],
   "source": [
    "\n",
    "# Preprocess the data\n",
    "train_images = train_images.reshape((60000, 28 * 28))\n",
    "train_images = train_images.astype('float32') / 255\n",
    "\n",
    "test_images = test_images.reshape((10000, 28 * 28))\n",
    "test_images = test_images.astype('float32') / 255\n",
    "\n",
    "train_labels = to_categorical(train_labels)\n",
    "test_labels = to_categorical(test_labels)"
   ]
  },
  {
   "cell_type": "markdown",
   "id": "7498ecaf",
   "metadata": {},
   "source": [
    "- In model we are setting up a SimpleRNN layer with 32 units and an input shape of (28, 28), where 28 is the number of time steps (pixels along one axis), and 28 is the number of features at each time step (pixels along the other axis)\n",
    "- After the SimpleRNN layer, a Dense layer is added for the final classification. The Dense layer uses a softmax activation function for multi-class classification.\n",
    "- We are adding a Dense layer with 10 units (one for each digit) and a softmax activation function for the final classification."
   ]
  },
  {
   "cell_type": "code",
   "execution_count": 4,
   "id": "cf8a302b",
   "metadata": {},
   "outputs": [],
   "source": [
    "# Build the RNN model\n",
    "model = Sequential()\n",
    "model.add(SimpleRNN(units=32, input_shape=(28, 28)))\n",
    "model.add(Dense(units=10, activation='softmax'))"
   ]
  },
  {
   "cell_type": "markdown",
   "id": "5c7d4b76",
   "metadata": {},
   "source": [
    "### The model is trained using categorical crossentropy loss and the Adam optimizer. The training involves adjusting the weights to minimize the difference between the predicted output and the actual labels"
   ]
  },
  {
   "cell_type": "code",
   "execution_count": 11,
   "id": "e15146eb",
   "metadata": {},
   "outputs": [
    {
     "name": "stdout",
     "output_type": "stream",
     "text": [
      "Epoch 1/10\n",
      "750/750 [==============================] - 13s 16ms/step - loss: 0.2403 - accuracy: 0.9302 - val_loss: 0.2262 - val_accuracy: 0.9352\n",
      "Epoch 2/10\n",
      "750/750 [==============================] - 11s 14ms/step - loss: 0.2296 - accuracy: 0.9335 - val_loss: 0.2226 - val_accuracy: 0.9369\n",
      "Epoch 3/10\n",
      "750/750 [==============================] - 12s 16ms/step - loss: 0.2179 - accuracy: 0.9372 - val_loss: 0.2597 - val_accuracy: 0.9206\n",
      "Epoch 4/10\n",
      "750/750 [==============================] - 12s 17ms/step - loss: 0.2140 - accuracy: 0.9372 - val_loss: 0.1889 - val_accuracy: 0.9467\n",
      "Epoch 5/10\n",
      "750/750 [==============================] - 10s 14ms/step - loss: 0.2096 - accuracy: 0.9388 - val_loss: 0.1852 - val_accuracy: 0.9477\n",
      "Epoch 6/10\n",
      "750/750 [==============================] - 10s 14ms/step - loss: 0.2019 - accuracy: 0.9414 - val_loss: 0.1884 - val_accuracy: 0.9467\n",
      "Epoch 7/10\n",
      "750/750 [==============================] - 10s 14ms/step - loss: 0.1921 - accuracy: 0.9453 - val_loss: 0.1719 - val_accuracy: 0.9529\n",
      "Epoch 8/10\n",
      "750/750 [==============================] - 10s 13ms/step - loss: 0.1847 - accuracy: 0.9464 - val_loss: 0.1795 - val_accuracy: 0.9487\n",
      "Epoch 9/10\n",
      "750/750 [==============================] - 12s 16ms/step - loss: 0.1865 - accuracy: 0.9460 - val_loss: 0.1895 - val_accuracy: 0.9467\n",
      "Epoch 10/10\n",
      "750/750 [==============================] - 16s 21ms/step - loss: 0.1808 - accuracy: 0.9475 - val_loss: 0.1787 - val_accuracy: 0.9479\n"
     ]
    }
   ],
   "source": [
    "# Compile the model\n",
    "model.compile(optimizer='adam', loss='categorical_crossentropy', metrics=['accuracy'])\n",
    "\n",
    "# Reshape the input data for RNN\n",
    "train_images_rnn = train_images.reshape((60000, 28, 28))\n",
    "test_images_rnn = test_images.reshape((10000, 28, 28))\n",
    "\n",
    "# Train the model\n",
    "history = model.fit(train_images_rnn, train_labels, epochs=10, batch_size=64, validation_split=0.2)"
   ]
  },
  {
   "cell_type": "code",
   "execution_count": 10,
   "id": "59d0c356",
   "metadata": {},
   "outputs": [
    {
     "name": "stdout",
     "output_type": "stream",
     "text": [
      "313/313 [==============================] - 2s 7ms/step - loss: 0.2304 - accuracy: 0.9347\n",
      "Test accuracy: 0.9347000122070312\n"
     ]
    }
   ],
   "source": [
    "# Evaluate the model on the test data\n",
    "test_loss, test_acc = model.evaluate(test_images_rnn, test_labels)\n",
    "print('Test accuracy:', test_acc)\n",
    "\n",
    "# Function to predict and visualize results on new images\n",
    "def predict_and_visualize(model, images, labels):\n",
    "    predictions = model.predict(images)\n",
    "    num_images = len(images)\n",
    "\n",
    "    plt.figure(figsize=(15, 3))\n",
    "    for i in range(num_images):\n",
    "        plt.subplot(1, num_images, i + 1)\n",
    "        plt.imshow(images[i].reshape((28, 28)), cmap='gray')\n",
    "        plt.title(f\"Predicted: {np.argmax(predictions[i])}\\nTrue: {np.argmax(labels[i])}\")\n",
    "        plt.axis('off')\n",
    "\n",
    "    plt.show()\n"
   ]
  },
  {
   "cell_type": "code",
   "execution_count": 9,
   "id": "fd2f3c14",
   "metadata": {},
   "outputs": [
    {
     "name": "stdout",
     "output_type": "stream",
     "text": [
      "1/1 [==============================] - 0s 41ms/step\n"
     ]
    },
    {
     "data": {
      "image/png": "[encoded data removed]",
      "text/plain": [
       "<Figure size 1080x216 with 11 Axes>"
      ]
     },
     "metadata": {
      "needs_background": "light"
     },
     "output_type": "display_data"
    }
   ],
   "source": [
    "# Choose some random test images for prediction\n",
    "num_images_to_predict = 11\n",
    "random_indices = np.random.choice(len(test_images_rnn), num_images_to_predict, replace=False)\n",
    "images_to_predict = test_images_rnn[random_indices]\n",
    "labels_to_predict = test_labels[random_indices]\n",
    "\n",
    "# Predict and visualize the results\n",
    "predict_and_visualize(model, images_to_predict, labels_to_predict)\n"
   ]
  },
  {
   "cell_type": "markdown",
   "id": "ac8c5edb",
   "metadata": {},
   "source": [
    "### Quick Practic Python code that demonstrates the fundamentals of Recurrent Neural Networks (RNNs) using TensorFlow/Keras. This code implements an RNN to learn a simple sequence and predict the next element in the sequence"
   ]
  },
  {
   "cell_type": "code",
   "execution_count": 12,
   "id": "be67ccce",
   "metadata": {},
   "outputs": [],
   "source": [
    "import numpy as np\n",
    "import tensorflow as tf\n",
    "from tensorflow.keras.models import Sequential\n",
    "from tensorflow.keras.layers import SimpleRNN, Dense\n",
    "\n",
    "# Define a simple sequence\n",
    "sequence = np.array([0.1, 0.2, 0.3, 0.4, 0.5])"
   ]
  },
  {
   "cell_type": "code",
   "execution_count": 18,
   "id": "5ae6aa2a",
   "metadata": {},
   "outputs": [],
   "source": [
    "# Create input and output sequences for training\n",
    "def create_sequences(sequence, n_steps):\n",
    "    X, y = [], []\n",
    "    for i in range(len(sequence)):\n",
    "        end_ix = i + n_steps\n",
    "        if end_ix > len(sequence)-1:\n",
    "            break\n",
    "        seq_x, seq_y = sequence[i:end_ix], sequence[end_ix]\n",
    "        X.append(seq_x)\n",
    "        y.append(seq_y)\n",
    "    return np.array(X), np.array(y)\n",
    "\n",
    "n_steps = 4  # Number of time steps\n",
    "X, y = create_sequences(sequence, n_steps)"
   ]
  },
  {
   "cell_type": "code",
   "execution_count": 19,
   "id": "25b628d3",
   "metadata": {},
   "outputs": [],
   "source": [
    "# Reshape input for RNN\n",
    "X = X.reshape((X.shape[0], X.shape[1], 1))"
   ]
  },
  {
   "cell_type": "code",
   "execution_count": 20,
   "id": "5bd95c89",
   "metadata": {},
   "outputs": [
    {
     "data": {
      "text/plain": [
       "<keras.callbacks.History at 0x18302ca0ee0>"
      ]
     },
     "execution_count": 20,
     "metadata": {},
     "output_type": "execute_result"
    }
   ],
   "source": [
    "# Define and compile the RNN model\n",
    "model = Sequential([\n",
    "    SimpleRNN(50, activation='relu', input_shape=(n_steps, 1)),\n",
    "    Dense(1)\n",
    "])\n",
    "\n",
    "model.compile(optimizer='adam', loss='mse')\n",
    "\n",
    "# Fit the model\n",
    "model.fit(X, y, epochs=200, verbose=0)"
   ]
  },
  {
   "cell_type": "code",
   "execution_count": 21,
   "id": "3233ff82",
   "metadata": {},
   "outputs": [
    {
     "name": "stdout",
     "output_type": "stream",
     "text": [
      "Input Sequence: [0.3 0.4 0.5 0.6]\n",
      "Predicted Next Element: [0.7391848]\n"
     ]
    }
   ],
   "source": [
    "# Demonstrate prediction\n",
    "x_input = np.array([0.3, 0.4, 0.5,0.6])  # Input sequence\n",
    "x_input = x_input.reshape((1, n_steps, 1))  # Reshape for RNN\n",
    "y_pred = model.predict(x_input, verbose=0)  # Predict next element\n",
    "\n",
    "print(\"Input Sequence:\", x_input.flatten())\n",
    "print(\"Predicted Next Element:\", y_pred.flatten())"
   ]
  },
  {
   "cell_type": "code",
   "execution_count": null,
   "id": "be4715f6",
   "metadata": {},
   "outputs": [],
   "source": []
  }
 ],
 "metadata": {
  "kernelspec": {
   "display_name": "Python 3 (ipykernel)",
   "language": "python",
   "name": "python3"
  },
  "language_info": {
   "codemirror_mode": {
    "name": "ipython",
    "version": 3
   },
   "file_extension": ".py",
   "mimetype": "text/x-python",
   "name": "python",
   "nbconvert_exporter": "python",
   "pygments_lexer": "ipython3",
   "version": "3.11.5"
  }
 },
 "nbformat": 4,
 "nbformat_minor": 5
}
