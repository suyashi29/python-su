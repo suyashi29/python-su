{
 "cells": [
  {
   "cell_type": "markdown",
   "id": "8b98f4ee",
   "metadata": {},
   "source": [
    "## Analyze hotel data using python"
   ]
  },
  {
   "cell_type": "markdown",
   "id": "f78af791",
   "metadata": {},
   "source": [
    "## Preparation:\n",
    "\n",
    "- Load the hotel booking dataset into a Pandas DataFrame. What is the shape of the dataset?\n",
    "- Print the first few rows of the dataset to understand its structure. What are the column names and data types?\n",
    "- Check for missing values in the dataset. How many missing values are there in each column?\n",
    "- Explore some basic statistics of numerical features in the dataset. What are the mean, median, minimum, and maximum values of the 'lead_time' feature?\n",
    "- Explore some basic statistics of categorical features in the dataset. What are the unique values of the 'hotel' feature?\n",
    "\n",
    "## Processing:\n",
    "- Impute missing values in numerical features using the mean strategy. How many missing values were imputed for each numerical feature?\n",
    "\n",
    "- Impute missing values in categorical features using the most frequent strategy. Which values were imputed for each categorical feature?\n",
    "- Convert categorical variables into dummy/indicator variables. How many new columns were added to the dataset after one-hot encoding?\n",
    "- Standardize numerical features using StandardScaler. What are the mean and standard deviation of the 'lead_time' feature after standardization?\n",
    "\n",
    "\n",
    "## Analysis:\n",
    "- Visualize the distribution of numerical features in the dataset. What insights can you gain from the visualizations?\n",
    "- How many unique hotels are there in data?\n",
    "- Create vizualtions to show reservation status.\n",
    "- Explore the relationship between the 'lead_time' and 'is_canceled' features using a scatter plot. Is there any apparent correlation between these two features?\n",
    "- Calculate the cancellation rate for each hotel. Which hotel has the highest cancellation rate?\n"
   ]
  },
  {
   "cell_type": "code",
   "execution_count": null,
   "id": "e3138956",
   "metadata": {},
   "outputs": [],
   "source": []
  }
 ],
 "metadata": {
  "kernelspec": {
   "display_name": "Python 3 (ipykernel)",
   "language": "python",
   "name": "python3"
  },
  "language_info": {
   "codemirror_mode": {
    "name": "ipython",
    "version": 3
   },
   "file_extension": ".py",
   "mimetype": "text/x-python",
   "name": "python",
   "nbconvert_exporter": "python",
   "pygments_lexer": "ipython3",
   "version": "3.11.5"
  }
 },
 "nbformat": 4,
 "nbformat_minor": 5
}
