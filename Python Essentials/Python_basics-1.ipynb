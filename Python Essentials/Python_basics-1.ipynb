{
 "cells": [
  {
   "cell_type": "markdown",
   "id": "fd14c005",
   "metadata": {},
   "source": [
    "# Python Basics - Part 1\n",
    "\n",
    "Welcome to **Python Basics**. In this notebook, we will learn some fundamental concepts of Python programming.\n",
    "Introduction\n",
    "Python is a popular, high-level programming language known for its simplicity and readability. It is widely used in web development, data analysis, artificial intelligence, scientific computing, and more."
   ]
  },
  {
   "cell_type": "markdown",
   "id": "a11f2748",
   "metadata": {},
   "source": [
    "## Variables and Print Statement\n",
    "Variables are used to store information. In Python, you don't need to declare the type explicitly. The `print()` function is used to display output.\n",
    "\n",
    "- type() : use to check class of a declared variable"
   ]
  },
  {
   "cell_type": "code",
   "execution_count": 6,
   "id": "9f63cc49",
   "metadata": {},
   "outputs": [
    {
     "data": {
      "text/plain": [
       "complex"
      ]
     },
     "execution_count": 6,
     "metadata": {},
     "output_type": "execute_result"
    }
   ],
   "source": [
    "#Numbers: integer, float, Complex\n",
    "x=2\n",
    "y=17.2\n",
    "type(x)\n",
    "type(y)\n",
    "type(3+9j)"
   ]
  },
  {
   "cell_type": "code",
   "execution_count": 13,
   "id": "2c3cead6",
   "metadata": {},
   "outputs": [],
   "source": [
    "a_1=\"Ashi\"\n",
    "_d=24\n",
    "a=\"asbhi\""
   ]
  },
  {
   "cell_type": "code",
   "execution_count": 7,
   "id": "35e29d51",
   "metadata": {},
   "outputs": [
    {
     "ename": "SyntaxError",
     "evalue": "invalid decimal literal (3568993286.py, line 1)",
     "output_type": "error",
     "traceback": [
      "\u001b[1;36m  Cell \u001b[1;32mIn[7], line 1\u001b[1;36m\u001b[0m\n\u001b[1;33m    1_a=\"ashi\"\u001b[0m\n\u001b[1;37m     ^\u001b[0m\n\u001b[1;31mSyntaxError\u001b[0m\u001b[1;31m:\u001b[0m invalid decimal literal\n"
     ]
    }
   ],
   "source": [
    "1_a=\"ashi\"\n",
    "## please note: A variable cannot start with a number or symbol"
   ]
  },
  {
   "cell_type": "code",
   "execution_count": 14,
   "id": "522a8c85",
   "metadata": {},
   "outputs": [
    {
     "name": "stdout",
     "output_type": "stream",
     "text": [
      "Hello, my name is Macie\n",
      "I am 25 years old.\n"
     ]
    }
   ],
   "source": [
    "# Example: Variables and print statement\n",
    "name = \"Macie\"\n",
    "age = 25\n",
    "height=\"14.5\"\n",
    "hobbies = [\"reading\", \"cycling\", \"painting\"]  # List\n",
    "grades = {\"Math\": 90, \"Science\": 85}    \n",
    "print(\"Hello, my name is\", name)\n",
    "print(\"I am\", age, \"years old.\")"
   ]
  },
  {
   "cell_type": "markdown",
   "id": "5d8fa874",
   "metadata": {},
   "source": [
    "### Placeholder Formatting in Print Statements\n",
    "You can format strings using f-strings or the format() method."
   ]
  },
  {
   "cell_type": "code",
   "execution_count": 15,
   "id": "77f9e107",
   "metadata": {},
   "outputs": [
    {
     "name": "stdout",
     "output_type": "stream",
     "text": [
      "My name is Macie and I am 25 years old.\n",
      "I am 14.5 feet tall and my favorite hobby is reading.\n"
     ]
    }
   ],
   "source": [
    "# Using f-strings\n",
    "print(f\"My name is {name} and I am {age} years old.\")\n",
    "print(f\"I am {height} feet tall and my favorite hobby is {hobbies[0]}.\")"
   ]
  },
  {
   "cell_type": "code",
   "execution_count": 16,
   "id": "e702ac6c",
   "metadata": {},
   "outputs": [
    {
     "name": "stdout",
     "output_type": "stream",
     "text": [
      "My name is Macie and I am 25 years old.\n",
      "I scored 90 in Math and 85 in Science.\n"
     ]
    }
   ],
   "source": [
    "#Using format() method\n",
    "print(\"My name is {} and I am {} years old.\".format(name, age))\n",
    "print(\"I scored {math} in Math and {science} in Science.\".format(math=grades[\"Math\"], science=grades[\"Science\"]))"
   ]
  },
  {
   "cell_type": "markdown",
   "id": "434d2ba8",
   "metadata": {},
   "source": [
    "## Numbers and Operations\n",
    "Python supports different types of numbers: integers, floats, and complex numbers.\n",
    "\n",
    "You can perform operations such as addition, subtraction, multiplication, and division."
   ]
  },
  {
   "cell_type": "code",
   "execution_count": 17,
   "id": "ee53d392",
   "metadata": {},
   "outputs": [
    {
     "name": "stdout",
     "output_type": "stream",
     "text": [
      "Addition: 13\n",
      "Subtraction: 7\n",
      "Multiplication: 30\n",
      "Division: 3.3333333333333335\n",
      "Floor Division: 3\n",
      "Modulus: 1\n",
      "Exponentiation: 1000\n"
     ]
    }
   ],
   "source": [
    "# Example: Number operations\n",
    "a = 10\n",
    "b = 3\n",
    "print(\"Addition:\", a + b)\n",
    "print(\"Subtraction:\", a - b)\n",
    "print(\"Multiplication:\", a * b)\n",
    "print(\"Division:\", a / b)\n",
    "print(\"Floor Division:\", a // b)\n",
    "print(\"Modulus:\", a % b)\n",
    "print(\"Exponentiation:\", a ** b)"
   ]
  },
  {
   "cell_type": "markdown",
   "id": "f796c31b",
   "metadata": {},
   "source": [
    "## Binary Operations\n",
    "Binary operations are performed on numbers at the bit level.\n",
    "\n",
    "- AND (`&`)\n",
    "- OR (`|`)\n",
    "- XOR (`^`)\n",
    "- NOT (`~`)\n",
    "- Shift Left (`<<`)\n",
    "- Shift Right (`>>`)"
   ]
  },
  {
   "cell_type": "markdown",
   "id": "86929b0e",
   "metadata": {},
   "source": [
    "000-0\n",
    "001-1\n",
    "010-2\n",
    "011-3\n",
    "100-4\n",
    "101-5\n",
    "101\n",
    "011\n",
    "001- AND\n",
    "111- OR\n",
    "110-\n",
    "101\n",
    "  101 0 - 10\n",
    " \n",
    " "
   ]
  },
  {
   "cell_type": "code",
   "execution_count": 18,
   "id": "1feaba9b",
   "metadata": {},
   "outputs": [
    {
     "name": "stdout",
     "output_type": "stream",
     "text": [
      "AND: 1\n",
      "OR: 7\n",
      "XOR: 6\n",
      "NOT x: -6\n",
      "Shift left x by 1: 10\n",
      "Shift right x by 1: 2\n"
     ]
    }
   ],
   "source": [
    "# Example: Binary operations\n",
    "x = 5   # 0101 in binary\n",
    "y = 3   # 0011 in binary\n",
    "print(\"AND:\", x & y)\n",
    "print(\"OR:\", x | y)\n",
    "print(\"XOR:\", x ^ y)\n",
    "print(\"NOT x:\", ~x)\n",
    "print(\"Shift left x by 1:\", x << 1)\n",
    "print(\"Shift right x by 1:\", x >> 1)"
   ]
  },
  {
   "cell_type": "markdown",
   "id": "5fe38a9e",
   "metadata": {},
   "source": [
    "## Input and Output\n",
    "The `input()` function allows you to take user input. By default, input is taken as a string."
   ]
  },
  {
   "cell_type": "code",
   "execution_count": 19,
   "id": "00371311",
   "metadata": {},
   "outputs": [
    {
     "name": "stdout",
     "output_type": "stream",
     "text": [
      "Welcome to this site. please enter your details as below\n",
      "Name:Asha\n",
      "Age:32\n",
      "Height:5\n",
      "***thankyou***\n"
     ]
    }
   ],
   "source": [
    "# Create an interface where user will add their following details\"\n",
    "print(\"Welcome to this site. please enter your details as below\")\n",
    "name=input(\"Name:\")\n",
    "age=int(input(\"Age:\"))\n",
    "height=float(input(\"Height:\"))\n",
    "print(\"***thankyou***\")"
   ]
  },
  {
   "cell_type": "markdown",
   "id": "1f856ae7",
   "metadata": {},
   "source": [
    "## Hands-on Quick Practice\n",
    "Try solving the following problems:\n",
    "1. Create two variables and print their sum.\n",
    "2. Take two numbers from the user and print their product.\n",
    "3. Perform binary AND, OR operations on two integers given by the user.\n",
    "4. Write a program that asks for your age and prints how old you will be in 5 years.\n",
    "5. Create a variable age and assign your age to it.\n",
    "6. Print a greeting message using your name and age.\n",
    "7. Perform and print the result of 25 % 4.\n",
    "8. Take two numbers as input and print their sum.\n",
    "9. Use binary operations to find the result of 12 & 7."
   ]
  },
  {
   "cell_type": "code",
   "execution_count": null,
   "id": "3bdcb64c",
   "metadata": {},
   "outputs": [],
   "source": [
    "# Write your practice code here\n"
   ]
  }
 ],
 "metadata": {
  "kernelspec": {
   "display_name": "Python 3 (ipykernel)",
   "language": "python",
   "name": "python3"
  },
  "language_info": {
   "codemirror_mode": {
    "name": "ipython",
    "version": 3
   },
   "file_extension": ".py",
   "mimetype": "text/x-python",
   "name": "python",
   "nbconvert_exporter": "python",
   "pygments_lexer": "ipython3",
   "version": "3.11.5"
  }
 },
 "nbformat": 4,
 "nbformat_minor": 5
}
