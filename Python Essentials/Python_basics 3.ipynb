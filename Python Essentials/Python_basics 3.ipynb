{
 "cells": [
  {
   "cell_type": "markdown",
   "id": "7b8d66ad",
   "metadata": {},
   "source": [
    "# Python Basics -\n",
    "\n",
    "In this notebook, we will continue learning Python fundamentals: conditions, loops, functions, and lists."
   ]
  },
  {
   "cell_type": "markdown",
   "id": "f7b4e5a1",
   "metadata": {},
   "source": [
    "## Conditional Statements\n",
    "Python uses `if`, `elif`, and `else` to make decisions based on conditions."
   ]
  },
  {
   "cell_type": "code",
   "execution_count": null,
   "id": "80238f2e",
   "metadata": {},
   "outputs": [],
   "source": [
    "9+8 \n",
    "\n",
    "   print(9+8)"
   ]
  },
  {
   "cell_type": "code",
   "execution_count": null,
   "id": "9b5ce699",
   "metadata": {},
   "outputs": [],
   "source": [
    "#only if \n",
    "age = int(input(\"Enter your age:\"))\n",
    "\n",
    "if age >= 18:\n",
    "    print(\"You are eligible to vote.\")\n"
   ]
  },
  {
   "cell_type": "code",
   "execution_count": null,
   "id": "2dd77d18",
   "metadata": {},
   "outputs": [],
   "source": [
    "# Example: ifelse\n",
    "marks=int(input(\"Enter your marks\"))\n",
    "\n",
    "if marks >= 50:\n",
    "    print(\"You passed the exam.\")\n",
    "else:\n",
    "    print(\"You failed the exam.\")\n"
   ]
  },
  {
   "cell_type": "code",
   "execution_count": null,
   "id": "5e64e64d",
   "metadata": {},
   "outputs": [],
   "source": [
    "#if-elif-else\n",
    "temperature = 32\n",
    "\n",
    "if temperature > 35:\n",
    "    print(\"It's very hot outside.\")\n",
    "elif temperature >= 20:\n",
    "    print(\"Weather is pleasant.\")\n",
    "else:\n",
    "    print(\"It's cold outside.\")\n"
   ]
  },
  {
   "cell_type": "code",
   "execution_count": null,
   "id": "0be70dd6",
   "metadata": {},
   "outputs": [],
   "source": [
    "#Nested If \n",
    "age=int(input(\"Enter your age:\"))\n",
    "citizen = True\n",
    "\n",
    "if age >= 18:\n",
    "    if citizen:\n",
    "        print(\"You are eligible to vote.\")\n",
    "    else:\n",
    "        print(\"You must be a citizen to vote.\")\n",
    "else:\n",
    "    print(\"You are too young to vote.\")\n"
   ]
  },
  {
   "cell_type": "markdown",
   "id": "b48f1643",
   "metadata": {},
   "source": [
    "## Case Study: Online Shopping Discount System\n",
    "\n",
    "Scenario:\n",
    "An e-commerce platform wants to apply discounts based on the customer’s cart value and membership status.\n",
    "\n",
    "### Rules:\n",
    "\n",
    "- If the cart value is above ₹5000:\n",
    "\n",
    "- If the customer is a Premium Member, apply 20% discount.\n",
    "\n",
    "- If the customer is a Regular Member, apply 10% discount.\n",
    "\n",
    "- If the cart value is between ₹2000 and ₹5000, apply 5% discount for everyone.\n",
    "\n",
    "- Otherwise, no discount."
   ]
  },
  {
   "cell_type": "code",
   "execution_count": null,
   "id": "8d087796",
   "metadata": {},
   "outputs": [],
   "source": [
    "# Online Shopping Discount System\n",
    "\n",
    "print(\"Welcome to the E-Commerce Discount Calculator!\\n\")\n",
    "\n",
    "# Get user input\n",
    "try:\n",
    "    cart_value = float(input(\"Enter your cart value (in ₹): \"))\n",
    "    membership = input(\"Enter your membership type (Premium/Regular/None): \").strip().lower()\n",
    "\n",
    "    discount = 0\n",
    "\n",
    "    # Apply discount rules\n",
    "    if cart_value > 5000:\n",
    "        if membership == \"premium\":\n",
    "            discount = 0.20\n",
    "        elif membership == \"regular\":\n",
    "            discount = 0.10\n",
    "        else:\n",
    "            discount = 0\n",
    "    elif 2000 <= cart_value <= 5000:\n",
    "        discount = 0.05\n",
    "    else:\n",
    "        discount = 0\n",
    "\n",
    "    # Calculate final price\n",
    "    discount_amount = cart_value * discount\n",
    "    final_price = cart_value - discount_amount\n",
    "\n",
    "    # Display results\n",
    "    print(\"\\n--- Discount Summary ---\")\n",
    "    print(f\"Original Cart Value: ₹{cart_value:.2f}\")\n",
    "    print(f\"Discount Applied: ₹{discount_amount:.2f}\")\n",
    "    print(f\"Final Price to Pay: ₹{final_price:.2f}\")\n",
    "\n",
    "except ValueError:\n",
    "    print(\"end\")\n"
   ]
  },
  {
   "cell_type": "code",
   "execution_count": null,
   "id": "7f29032c",
   "metadata": {},
   "outputs": [],
   "source": [
    "cart_value = int(input(\"Enter the Cart value:\"))\n",
    "membership = \"Premium\"  # Options: \"Premium\" or \"Regular\"\n",
    "\n",
    "if cart_value > 5000:\n",
    "    if membership == \"Premium\":\n",
    "        discount = 0.20 * cart_value\n",
    "        print(\"Premium member discount applied: ₹\", discount)\n",
    "    else:\n",
    "        discount = 0.10 * cart_value\n",
    "        print(\"Regular member discount applied: ₹\", discount)\n",
    "elif cart_value >= 2000:\n",
    "    discount = 0.05 * cart_value\n",
    "    print(\"5% discount applied: ₹\", discount)\n",
    "else:\n",
    "    discount = 0\n",
    "    print(\"No discount available.\")\n",
    "\n",
    "print(\"Final Price: ₹\", cart_value - discount)\n"
   ]
  },
  {
   "cell_type": "markdown",
   "id": "509f2882",
   "metadata": {},
   "source": [
    "## Loops\n",
    "Python has two main types of loops:\n",
    "- `for` loop (used to iterate over a sequence)\n",
    "- `while` loop (used to repeat as long as a condition is true)"
   ]
  },
  {
   "cell_type": "code",
   "execution_count": null,
   "id": "2e07bac1",
   "metadata": {},
   "outputs": [],
   "source": [
    "# Example: While loop\n",
    "count = 0\n",
    "while count < 5:\n",
    "    print(\"Count:\", count)\n",
    "    count += 1"
   ]
  },
  {
   "cell_type": "code",
   "execution_count": null,
   "id": "a8254a87",
   "metadata": {},
   "outputs": [],
   "source": [
    "a=list(range(20,10,-2))\n",
    "a"
   ]
  },
  {
   "cell_type": "code",
   "execution_count": null,
   "id": "17c024c0",
   "metadata": {},
   "outputs": [],
   "source": [
    "# Example: For loop\n",
    "for i in range(5):\n",
    "    print(\"Iteration:\", i)\n"
   ]
  },
  {
   "cell_type": "code",
   "execution_count": null,
   "id": "b00250e6",
   "metadata": {},
   "outputs": [],
   "source": [
    "## Iteraing through a list\n",
    "fruits = [\"apple\", \"banana\", \"cherry\"]\n",
    "\n",
    "for fruit in fruits:\n",
    "    name=input(\"Enter your name: \")\n"
   ]
  },
  {
   "cell_type": "code",
   "execution_count": null,
   "id": "0988ebab",
   "metadata": {},
   "outputs": [],
   "source": [
    "## Using Range function\n",
    "for i in range(5):\n",
    "    print(\"Number:\", i)\n"
   ]
  },
  {
   "cell_type": "code",
   "execution_count": null,
   "id": "68be4c61",
   "metadata": {},
   "outputs": [],
   "source": [
    "## Looping through Strings\n",
    "word = \"Python\"\n",
    "\n",
    "for letter in word:\n",
    "    print(letter)\n"
   ]
  },
  {
   "cell_type": "code",
   "execution_count": null,
   "id": "9de29e39",
   "metadata": {},
   "outputs": [],
   "source": [
    "##Nested for loop\n",
    "for i in range(1, 4):\n",
    "    for j in range(1, 4):\n",
    "        print(f\"{i} x {j} = {i*j}\")\n"
   ]
  },
  {
   "cell_type": "code",
   "execution_count": null,
   "id": "98edfa53",
   "metadata": {},
   "outputs": [],
   "source": [
    "##Using for with if (conditional inside loop)\n",
    "numbers = [1, 5, 10, 12, 15]\n",
    "\n",
    "for num in numbers:\n",
    "    if num % 2 == 0:\n",
    "        print(num, \"is even\")\n",
    "    else:\n",
    "        print(num, \"is odd\")\n"
   ]
  },
  {
   "cell_type": "markdown",
   "id": "5e651552",
   "metadata": {},
   "source": [
    "## Expanded & Interactive Case Study: Online Shopping Discount System\n",
    "\n",
    "Scenario:\n",
    "- An e-commerce platform applies discounts based on cart value, membership, and promo codes. \n",
    "- Users can also buy multiple items, and the program calculates the total price per item and overall bill summary."
   ]
  },
  {
   "cell_type": "code",
   "execution_count": null,
   "id": "c3128ca7",
   "metadata": {},
   "outputs": [],
   "source": [
    "# Sample item catalog\n",
    "items = {\n",
    "    \"Laptop\": 45000,\n",
    "    \"Headphones\": 1500,\n",
    "    \"Mouse\": 800,\n",
    "    \"Keyboard\": 1200,\n",
    "    \"Smartphone\": 25000\n",
    "}\n",
    "\n",
    "# User inputs\n",
    "membership = input(\"Enter membership type (Premium/Regular): \")\n",
    "cart = {}  # item_name: quantity\n",
    "\n",
    "print(\"\\nAvailable items:\")\n",
    "for item, price in items.items():\n",
    "    print(f\"{item}: ₹{price}\")\n",
    "\n",
    "# Let user choose multiple items\n",
    "while True:\n",
    "    chosen_item = input(\"\\nEnter item name to add to cart (or 'done' to finish): \")\n",
    "    if chosen_item.lower() == \"done\":\n",
    "        break\n",
    "    if chosen_item in items:\n",
    "        quantity = int(input(f\"Enter quantity for {chosen_item}: \"))\n",
    "        cart[chosen_item] = quantity\n",
    "    else:\n",
    "        print(\"Item not available!\")\n",
    "\n",
    "# Calculate total\n",
    "total = 0\n",
    "print(\"\\nCart Summary:\")\n",
    "for item, quantity in cart.items():\n",
    "    item_total = items[item] * quantity\n",
    "    print(f\"{item} x {quantity} = ₹{item_total}\")\n",
    "    total += item_total\n",
    "\n",
    "# Apply discount rules\n",
    "if total > 5000:\n",
    "    if membership.lower() == \"premium\":\n",
    "        discount = 0.20 * total\n",
    "        print(\"\\nPremium member discount applied: ₹\", discount)\n",
    "    else:\n",
    "        discount = 0.10 * total\n",
    "        print(\"\\nRegular member discount applied: ₹\", discount)\n",
    "elif total >= 2000:\n",
    "    discount = 0.05 * total\n",
    "    print(\"\\n5% discount applied: ₹\", discount)\n",
    "else:\n",
    "    discount = 0\n",
    "    print(\"\\nNo discount available.\")\n",
    "\n",
    "final_price = total - discount\n",
    "print(\"\\nTotal Bill: ₹\", total)\n",
    "print(\"Discount: ₹\", discount)\n",
    "print(\"Amount to Pay: ₹\", final_price)\n"
   ]
  },
  {
   "cell_type": "code",
   "execution_count": null,
   "id": "abeae561",
   "metadata": {},
   "outputs": [],
   "source": [
    "## USER INPOUT lists\n",
    "# Create an empty list\n",
    "user_list = []\n",
    "\n",
    "# Ask how many items the user wants to add\n",
    "n = int(input(\"How many items do you want to add to the list? \"))\n",
    "\n",
    "# Loop to take input\n",
    "for i in range(n):\n",
    "    item = input(f\"Enter item {i+1}: \")\n",
    "    user_list.append(item)\n",
    "\n",
    "print(\"Your list:\", user_list)\n"
   ]
  },
  {
   "cell_type": "code",
   "execution_count": null,
   "id": "5613ac47",
   "metadata": {},
   "outputs": [],
   "source": [
    "d={\"A\":1,\"B\": 2}\n",
    "d[\"C\"]=7"
   ]
  },
  {
   "cell_type": "code",
   "execution_count": null,
   "id": "c58e8ed0",
   "metadata": {},
   "outputs": [],
   "source": [
    "## User Input dictionary \n",
    "# Create an empty dictionary\n",
    "user_dict = {}\n",
    "\n",
    "# Ask how many key-value pairs\n",
    "n = int(input(\"\\nHow many key-value pairs do you want to add? \"))\n",
    "\n",
    "# Loop to take input\n",
    "for i in range(n):\n",
    "    key = input(f\"Enter key {i+1}: \")\n",
    "    value = input(f\"Enter value for '{key}': \")\n",
    "    user_dict[key] = value\n",
    "\n",
    "print(\"Your dictionary:\", user_dict)\n"
   ]
  },
  {
   "cell_type": "markdown",
   "id": "772e4f9a",
   "metadata": {},
   "source": [
    "## Functions\n",
    "Functions are reusable blocks of code defined using the `def` keyword."
   ]
  },
  {
   "cell_type": "markdown",
   "id": "4d0cd050",
   "metadata": {},
   "source": [
    "## 1. Functions Without Variables\n",
    "These functions don’t take any input and may or may not return something."
   ]
  },
  {
   "cell_type": "code",
   "execution_count": 1,
   "id": "20c729f4",
   "metadata": {},
   "outputs": [
    {
     "name": "stdout",
     "output_type": "stream",
     "text": [
      "Hello, welcome to Python!\n",
      "3.14159\n"
     ]
    }
   ],
   "source": [
    "# Example 1: Simple function with no input and no output\n",
    "def greet():\n",
    "    print(\"Hello, welcome to Python!\")\n",
    "\n",
    "greet()   # Output: Hello, welcome to Python!\n",
    "\n",
    "\n",
    "# Example 2: Function with no input but returns a value\n",
    "def get_pi():\n",
    "    return 3.14159\n",
    "\n",
    "print(get_pi())  # Output: 3.14159\n"
   ]
  },
  {
   "cell_type": "markdown",
   "id": "3aa21fdf",
   "metadata": {},
   "source": [
    "### 2. Functions With Variables (Parameters)\n",
    "\n",
    "These allow reusability by passing arguments."
   ]
  },
  {
   "cell_type": "code",
   "execution_count": 3,
   "id": "e81af50d",
   "metadata": {},
   "outputs": [
    {
     "data": {
      "text/plain": [
       "144"
      ]
     },
     "execution_count": 3,
     "metadata": {},
     "output_type": "execute_result"
    }
   ],
   "source": [
    "# Example 1: Function with one variable\n",
    "def square(num):\n",
    "    return num ** 2\n",
    "\n",
    "square(12)  \n"
   ]
  },
  {
   "cell_type": "code",
   "execution_count": 4,
   "id": "4f4bc89c",
   "metadata": {},
   "outputs": [
    {
     "name": "stdout",
     "output_type": "stream",
     "text": [
      "13\n",
      "53\n"
     ]
    }
   ],
   "source": [
    "\n",
    "\n",
    "# Example 2: Function with multiple variables\n",
    "def EUI(a, b):\n",
    "    return 2*a + b\n",
    "\n",
    "print(EUI(3, 7))   \n",
    "print(EUI(13, 27)) "
   ]
  },
  {
   "cell_type": "markdown",
   "id": "67d3a613",
   "metadata": {},
   "source": [
    "## 3. Functions With Default Parameters\n",
    "\n",
    "Parameters can have default values."
   ]
  },
  {
   "cell_type": "code",
   "execution_count": 5,
   "id": "b4ce731c",
   "metadata": {},
   "outputs": [
    {
     "name": "stdout",
     "output_type": "stream",
     "text": [
      "Hello, Guest!\n",
      "Hello, Suyashi!\n"
     ]
    }
   ],
   "source": [
    "def greet(name=\"Guest\"):\n",
    "    print(f\"Hello, {name}!\")\n",
    "\n",
    "greet()           \n",
    "greet(\"Suyashi\")  \n"
   ]
  },
  {
   "cell_type": "code",
   "execution_count": 6,
   "id": "081d0b73",
   "metadata": {},
   "outputs": [
    {
     "name": "stdout",
     "output_type": "stream",
     "text": [
      "Hello, Aman!\n"
     ]
    }
   ],
   "source": [
    "greet(\"Aman\")"
   ]
  },
  {
   "cell_type": "markdown",
   "id": "dae273fb",
   "metadata": {},
   "source": [
    "### 4. Functions With Variable-Length Arguments\n",
    "When the number of arguments is not fixed."
   ]
  },
  {
   "cell_type": "code",
   "execution_count": 7,
   "id": "4b9b514e",
   "metadata": {},
   "outputs": [
    {
     "name": "stdout",
     "output_type": "stream",
     "text": [
      "114\n"
     ]
    }
   ],
   "source": [
    "# *args (positional arguments)\n",
    "def add_all(*numbers):\n",
    "    return sum(numbers)\n",
    "\n",
    "print(add_all(2, 3, 5, 7,8,9,80))  "
   ]
  },
  {
   "cell_type": "code",
   "execution_count": 8,
   "id": "2dd2e25b",
   "metadata": {},
   "outputs": [
    {
     "name": "stdout",
     "output_type": "stream",
     "text": [
      "name: Riya\n",
      "age: 25\n",
      "city: Delhi\n"
     ]
    }
   ],
   "source": [
    "# **kwargs (keyword arguments)\n",
    "def show_info(**details):\n",
    "    for key, value in details.items():\n",
    "        print(f\"{key}: {value}\")\n",
    "\n",
    "show_info(name=\"Riya\", age=25, city=\"Delhi\")\n",
    "\n"
   ]
  },
  {
   "cell_type": "markdown",
   "id": "e4adb164",
   "metadata": {},
   "source": [
    "### 5. Lambda (Anonymous) Functions\n",
    "\n",
    "Small, one-line functions."
   ]
  },
  {
   "cell_type": "code",
   "execution_count": 9,
   "id": "3faf3b3d",
   "metadata": {},
   "outputs": [
    {
     "data": {
      "text/plain": [
       "4096"
      ]
     },
     "execution_count": 9,
     "metadata": {},
     "output_type": "execute_result"
    }
   ],
   "source": [
    "# With Single Variable \n",
    "power_4 = lambda x:x**4\n",
    "power_4(8)"
   ]
  },
  {
   "cell_type": "code",
   "execution_count": 11,
   "id": "21b6da5f",
   "metadata": {},
   "outputs": [
    {
     "data": {
      "text/plain": [
       "13"
      ]
     },
     "execution_count": 11,
     "metadata": {},
     "output_type": "execute_result"
    }
   ],
   "source": [
    "# With three variable s\n",
    "equi = lambda x,y,z:(2**x+3*y+z)\n",
    "equi(2,2,3)"
   ]
  },
  {
   "cell_type": "code",
   "execution_count": null,
   "id": "eb3c8ce5",
   "metadata": {},
   "outputs": [],
   "source": [
    "# Without variables\n",
    "hello = lambda: \"Hello World\"\n",
    "print(hello())  \n",
    "\n",
    "\n"
   ]
  },
  {
   "cell_type": "markdown",
   "id": "95313272",
   "metadata": {},
   "source": [
    "### Case Study: Simple Student Grading System\n",
    "\n",
    " Create different functions to handle student grades System\n",
    " \n",
    "### Interactive Extension \n",
    "\n",
    "- Createa Grading Interface \n",
    "- Add all subject marks \n",
    "- Take avaearge of it \n",
    "- Classify learners as Excellent, Good, Average , Poor \n",
    "- Print their score sheet \n"
   ]
  },
  {
   "cell_type": "code",
   "execution_count": null,
   "id": "8b913484",
   "metadata": {},
   "outputs": [],
   "source": [
    "# Function without variables\n",
    "def welcome():\n",
    "    print(\"Welcome to Student Grading System\")\n",
    "\n",
    "# Function with variables\n",
    "def calculate_percentage(marks_obtained, total_marks):\n",
    "    return (marks_obtained / total_marks) * 100\n",
    "\n",
    "# Function with default parameter\n",
    "def assign_grade(percentage, pass_mark=40):\n",
    "    if percentage >= 90:\n",
    "        return \"A+\"\n",
    "    elif percentage >= 75:\n",
    "        return \"A\"\n",
    "    elif percentage >= 60:\n",
    "        return \"B\"\n",
    "    elif percentage >= pass_mark:\n",
    "        return \"C\"\n",
    "    else:\n",
    "        return \"Fail\"\n",
    "\n",
    "# Function with *args\n",
    "def average_marks(*marks):\n",
    "    return sum(marks) / len(marks)\n",
    "\n",
    "# Lambda function\n",
    "status = lambda grade: \"Pass\" if grade != \"Fail\" else \"Fail\"\n",
    "\n",
    "# --------------------\n",
    "# Running the case study\n",
    "welcome()\n",
    "\n",
    "avg = average_marks(78, 85, 69, 92)\n",
    "percentage = calculate_percentage(avg, 100)\n",
    "grade = assign_grade(percentage)\n",
    "\n",
    "print(f\"Average Marks: {avg}\")\n",
    "print(f\"Percentage: {percentage:.2f}%\")\n",
    "print(f\"Grade: {grade}\")\n",
    "print(f\"Status: {status(grade)}\")\n"
   ]
  },
  {
   "cell_type": "markdown",
   "id": "ab119693",
   "metadata": {},
   "source": [
    "## Hands-on Quick Practice\n",
    "Try solving the following problems:\n",
    "1. Write a program that checks whether a number entered by the user is even or odd.\n",
    "2. Use a loop to print the first 10 natural numbers.\n",
    "3. Write a function that takes two numbers and returns their sum.\n",
    "4. Write a Python program to take n items from the user and store them in a list. Then Print the list Print the number of items that start with the letter 'a'\n",
    "5. Write a Python program to create a dictionary from user input. The user should enter n key-value pairs, where the value is an integer. Then:\n",
    "\n",
    "    - Print the dictionary\n",
    "    - Print the sum of all values in the dictionar"
   ]
  },
  {
   "cell_type": "code",
   "execution_count": null,
   "id": "a9b5cf34",
   "metadata": {},
   "outputs": [],
   "source": [
    "# Write your practice code here\n"
   ]
  }
 ],
 "metadata": {
  "kernelspec": {
   "display_name": "Python 3 (ipykernel)",
   "language": "python",
   "name": "python3"
  },
  "language_info": {
   "codemirror_mode": {
    "name": "ipython",
    "version": 3
   },
   "file_extension": ".py",
   "mimetype": "text/x-python",
   "name": "python",
   "nbconvert_exporter": "python",
   "pygments_lexer": "ipython3",
   "version": "3.11.5"
  }
 },
 "nbformat": 4,
 "nbformat_minor": 5
}
