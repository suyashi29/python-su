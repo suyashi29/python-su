{
 "cells": [
  {
   "cell_type": "markdown",
   "id": "ea5141cf",
   "metadata": {},
   "source": [
    "## Python Data Containers"
   ]
  },
  {
   "cell_type": "markdown",
   "id": "39b2d824",
   "metadata": {},
   "source": [
    "## Lists\n",
    "Lists are ordered collections of items, defined using square brackets [].\n",
    "\n",
    "You can access, modify, and perform operations on lists."
   ]
  },
  {
   "cell_type": "code",
   "execution_count": 6,
   "id": "77cf3e39",
   "metadata": {},
   "outputs": [],
   "source": [
    "a=[\"ashi\",25,14.5]\n",
    "a[0]\n",
    "a[-1]\n",
    "len(a)\n",
    "a.append(\"ab\")"
   ]
  },
  {
   "cell_type": "code",
   "execution_count": 8,
   "id": "e85bfe6e",
   "metadata": {},
   "outputs": [],
   "source": [
    "a\n",
    "del a[-1]"
   ]
  },
  {
   "cell_type": "code",
   "execution_count": 9,
   "id": "cf21d4ae",
   "metadata": {},
   "outputs": [
    {
     "data": {
      "text/plain": [
       "['ashi', 25, 14.5]"
      ]
     },
     "execution_count": 9,
     "metadata": {},
     "output_type": "execute_result"
    }
   ],
   "source": [
    "a"
   ]
  },
  {
   "cell_type": "code",
   "execution_count": 10,
   "id": "56715883",
   "metadata": {},
   "outputs": [
    {
     "name": "stdout",
     "output_type": "stream",
     "text": [
      "Updated fruits: ['apple', 'blueberry', 'cherry']\n",
      "After adding: ['apple', 'blueberry', 'cherry', 'orange']\n",
      "After removing apple: ['blueberry', 'cherry', 'orange']\n"
     ]
    }
   ],
   "source": [
    "# Example: List operations\n",
    "fruits = [\"apple\", \"banana\", \"cherry\"]\n",
    "\n",
    "# Modify elements\n",
    "fruits[1] = \"blueberry\"\n",
    "print(\"Updated fruits:\", fruits)\n",
    "\n",
    "# Add elements\n",
    "fruits.append(\"orange\")\n",
    "print(\"After adding:\", fruits)\n",
    "\n",
    "# Remove elements\n",
    "fruits.remove(\"apple\")\n",
    "print(\"After removing apple:\", fruits)"
   ]
  },
  {
   "cell_type": "code",
   "execution_count": 12,
   "id": "b9cc6749",
   "metadata": {},
   "outputs": [],
   "source": [
    "fruits.insert(2,\"Kiwi\")"
   ]
  },
  {
   "cell_type": "code",
   "execution_count": 13,
   "id": "ab0b090e",
   "metadata": {},
   "outputs": [
    {
     "data": {
      "text/plain": [
       "['blueberry', 'cherry', 'Kiwi', 'orange']"
      ]
     },
     "execution_count": 13,
     "metadata": {},
     "output_type": "execute_result"
    }
   ],
   "source": [
    "fruits"
   ]
  },
  {
   "cell_type": "code",
   "execution_count": 15,
   "id": "8eea156f",
   "metadata": {},
   "outputs": [
    {
     "data": {
      "text/plain": [
       "['blueberry',\n",
       " 'cherry',\n",
       " 'Kiwi',\n",
       " 'orange',\n",
       " 'blueberry',\n",
       " 'cherry',\n",
       " 'Kiwi',\n",
       " 'orange',\n",
       " 'blueberry',\n",
       " 'cherry',\n",
       " 'Kiwi',\n",
       " 'orange']"
      ]
     },
     "execution_count": 15,
     "metadata": {},
     "output_type": "execute_result"
    }
   ],
   "source": [
    "fruits+fruits\n",
    "3*fruits"
   ]
  },
  {
   "cell_type": "code",
   "execution_count": 20,
   "id": "1551a3d1",
   "metadata": {},
   "outputs": [
    {
     "name": "stdout",
     "output_type": "stream",
     "text": [
      "sum is actually concadination: [100, 120, 780, 100, 120, 780]\n",
      "multiplication is actually repetation: [100, 120, 780, 100, 120, 780, 100, 120, 780]\n"
     ]
    }
   ],
   "source": [
    "a=[100,120,780]\n",
    "print(\"sum is actually concadination:\", a+a)\n",
    "print(\"multiplication is actually repetation:\",3*a)"
   ]
  },
  {
   "cell_type": "markdown",
   "id": "672139d4",
   "metadata": {},
   "source": [
    "## Tuples\n",
    "Tuples are ordered, immutable collections of items, defined using parentheses `()`.\n",
    "Once created, the elements of a tuple cannot be changed."
   ]
  },
  {
   "cell_type": "code",
   "execution_count": 23,
   "id": "30b57b9b",
   "metadata": {},
   "outputs": [
    {
     "name": "stdout",
     "output_type": "stream",
     "text": [
      "Tuple: (1, 2, 3, 4, 5)\n",
      "First element: 1\n",
      "Last element: 5\n"
     ]
    }
   ],
   "source": [
    "# Example: Tuples\n",
    "m = (1, 2, 3, 4, 5)\n",
    "print(\"Tuple:\", m)\n",
    "\n",
    "# Access elements\n",
    "print(\"First element:\", m[0])\n",
    "print(\"Last element:\", m[-1])"
   ]
  },
  {
   "cell_type": "code",
   "execution_count": 24,
   "id": "0e1ef19d",
   "metadata": {},
   "outputs": [
    {
     "ename": "AttributeError",
     "evalue": "'tuple' object has no attribute 'append'",
     "output_type": "error",
     "traceback": [
      "\u001b[1;31m---------------------------------------------------------------------------\u001b[0m",
      "\u001b[1;31mAttributeError\u001b[0m                            Traceback (most recent call last)",
      "Cell \u001b[1;32mIn[24], line 1\u001b[0m\n\u001b[1;32m----> 1\u001b[0m m\u001b[38;5;241m.\u001b[39mappend(\u001b[38;5;241m9\u001b[39m)\n",
      "\u001b[1;31mAttributeError\u001b[0m: 'tuple' object has no attribute 'append'"
     ]
    }
   ],
   "source": [
    "m.append(9)\n",
    "##please note: tupels are immutable"
   ]
  },
  {
   "cell_type": "markdown",
   "id": "2502077c",
   "metadata": {},
   "source": [
    "## Dictionaries\n",
    "Dictionaries store data in key-value pairs, defined using curly braces `{}`.\n",
    "They are unordered, mutable, and indexed by keys."
   ]
  },
  {
   "cell_type": "code",
   "execution_count": 25,
   "id": "36b4e68c",
   "metadata": {},
   "outputs": [
    {
     "name": "stdout",
     "output_type": "stream",
     "text": [
      "Dictionary: {'name': 'alley', 'age': 25, 'city': 'New York'}\n",
      "Name: alley\n",
      "Updated dictionary: {'name': 'alley', 'age': 25, 'city': 'New York', 'email': 'alice@example.com'}\n",
      "After updating age: {'name': 'alley', 'age': 26, 'city': 'New York', 'email': 'alice@example.com'}\n"
     ]
    }
   ],
   "source": [
    "# Example: Dictionaries\n",
    "person = {\"name\": \"alley\", \"age\": 25, \"city\": \"New York\"}\n",
    "print(\"Dictionary:\", person)\n",
    "\n",
    "# Access values by key\n",
    "print(\"Name:\", person[\"name\"])\n",
    "\n",
    "# Add new key-value pair\n",
    "person[\"email\"] = \"alice@example.com\"\n",
    "print(\"Updated dictionary:\", person)\n",
    "\n",
    "# Modify a value\n",
    "person[\"age\"] = 26\n",
    "print(\"After updating age:\", person)"
   ]
  },
  {
   "cell_type": "code",
   "execution_count": 29,
   "id": "eb917992",
   "metadata": {},
   "outputs": [],
   "source": [
    "person[\"Gender\"]=\"Female\"\n",
    "person\n",
    "person.keys()\n",
    "person.values()\n",
    "del person['name']"
   ]
  },
  {
   "cell_type": "code",
   "execution_count": 30,
   "id": "c7552841",
   "metadata": {},
   "outputs": [
    {
     "data": {
      "text/plain": [
       "{'age': 26,\n",
       " 'city': 'New York',\n",
       " 'email': 'alice@example.com',\n",
       " 'Gender': 'Female'}"
      ]
     },
     "execution_count": 30,
     "metadata": {},
     "output_type": "execute_result"
    }
   ],
   "source": [
    "person"
   ]
  },
  {
   "cell_type": "markdown",
   "id": "f7303f0c",
   "metadata": {},
   "source": [
    "## Sets\n",
    "Sets are unordered collections of unique elements, defined using curly braces `{}`.\n",
    "They are useful for mathematical operations like union, intersection, and difference."
   ]
  },
  {
   "cell_type": "code",
   "execution_count": 32,
   "id": "421d6ba0",
   "metadata": {},
   "outputs": [
    {
     "name": "stdout",
     "output_type": "stream",
     "text": [
      "Set1: {1, 2, 3, 4}\n",
      "Set2: {13, 4, 5, 6}\n"
     ]
    }
   ],
   "source": [
    "# Example: Sets\n",
    "set1 = {1, 2, 3,3, 4,4}\n",
    "set2 = {13, 4, 5, 6}\n",
    "\n",
    "print(\"Set1:\", set1)\n",
    "print(\"Set2:\", set2)"
   ]
  },
  {
   "cell_type": "code",
   "execution_count": 41,
   "id": "bbc033bd",
   "metadata": {},
   "outputs": [
    {
     "ename": "TypeError",
     "evalue": "'set' object is not subscriptable",
     "output_type": "error",
     "traceback": [
      "\u001b[1;31m---------------------------------------------------------------------------\u001b[0m",
      "\u001b[1;31mTypeError\u001b[0m                                 Traceback (most recent call last)",
      "Cell \u001b[1;32mIn[41], line 1\u001b[0m\n\u001b[1;32m----> 1\u001b[0m set1[\u001b[38;5;241m0\u001b[39m]\n",
      "\u001b[1;31mTypeError\u001b[0m: 'set' object is not subscriptable"
     ]
    }
   ],
   "source": [
    "set1[0] # indexing not supported in Sets"
   ]
  },
  {
   "cell_type": "code",
   "execution_count": 33,
   "id": "3c31f2e8",
   "metadata": {},
   "outputs": [
    {
     "name": "stdout",
     "output_type": "stream",
     "text": [
      "Union: {1, 2, 3, 4, 5, 6, 13}\n",
      "Intersection: {4}\n",
      "Difference (set1 - set2): {1, 2, 3}\n",
      "Symmetric Difference: {1, 2, 3, 5, 6, 13}\n"
     ]
    }
   ],
   "source": [
    "# Union\n",
    "print(\"Union:\", set1 | set2)\n",
    "\n",
    "# Intersection\n",
    "print(\"Intersection:\", set1 & set2)\n",
    "\n",
    "# Difference\n",
    "print(\"Difference (set1 - set2):\", set1 - set2)\n",
    "\n",
    "# Symmetric Difference\n",
    "print(\"Symmetric Difference:\", set1 ^ set2) ## all uncommon elements"
   ]
  },
  {
   "cell_type": "markdown",
   "id": "e655222c",
   "metadata": {},
   "source": [
    "## Strings\n",
    "Strings are sequences of characters enclosed in single or double quotes.\n",
    "They support slicing, concatenation, and many built-in methods."
   ]
  },
  {
   "cell_type": "code",
   "execution_count": 34,
   "id": "fc6fd6a6",
   "metadata": {},
   "outputs": [
    {
     "name": "stdout",
     "output_type": "stream",
     "text": [
      "First character: P\n",
      "Last character: g\n",
      "First 6 characters: Python\n",
      "Last 6 characters: amming\n",
      "Uppercase: PYTHON PROGRAMMING\n",
      "Lowercase: python programming\n",
      "Replace: Java Programming\n"
     ]
    }
   ],
   "source": [
    "# Example: Strings\n",
    "text = \"Python Programming\"\n",
    "s=\"1234\"\n",
    "b=\"1234abc has \"\n",
    "\n",
    "# Access characters\n",
    "print(\"First character:\", text[0])\n",
    "print(\"Last character:\", text[-1])\n",
    "\n",
    "# Slicing\n",
    "print(\"First 6 characters:\", text[:6])\n",
    "print(\"Last 6 characters:\", text[-6:])\n",
    "\n",
    "# String methods\n",
    "print(\"Uppercase:\", text.upper())\n",
    "print(\"Lowercase:\", text.lower())\n",
    "print(\"Replace:\", text.replace(\"Python\", \"Java\"))"
   ]
  },
  {
   "cell_type": "code",
   "execution_count": 39,
   "id": "156f255b",
   "metadata": {},
   "outputs": [
    {
     "ename": "NameError",
     "evalue": "name 's' is not defined",
     "output_type": "error",
     "traceback": [
      "\u001b[1;31m---------------------------------------------------------------------------\u001b[0m",
      "\u001b[1;31mNameError\u001b[0m                                 Traceback (most recent call last)",
      "Cell \u001b[1;32mIn[39], line 4\u001b[0m\n\u001b[0;32m      1\u001b[0m \u001b[38;5;66;03m#please note: strings are immutable\u001b[39;00m\n\u001b[0;32m      2\u001b[0m \u001b[38;5;66;03m#s.append(\"456\")\u001b[39;00m\n\u001b[0;32m      3\u001b[0m \u001b[38;5;66;03m#del s[2]\u001b[39;00m\n\u001b[1;32m----> 4\u001b[0m \u001b[38;5;28;01mdel\u001b[39;00m s\n\u001b[0;32m      5\u001b[0m s\n",
      "\u001b[1;31mNameError\u001b[0m: name 's' is not defined"
     ]
    }
   ],
   "source": [
    "#please note: strings are immutable\n",
    "#s.append(\"456\")\n",
    "#del s[2]\n",
    "del s"
   ]
  },
  {
   "cell_type": "markdown",
   "id": "2effbac4",
   "metadata": {},
   "source": [
    "## Hands-on Quick Practice\n",
    "Try solving the following problems:\n",
    "1. Create a tuple of 5 numbers and print the second and fourth element.\n",
    "2. Make a dictionary for storing student info (name, age, grade) and print values.\n",
    "3. Use sets to find common elements between two lists.\n",
    "4. Write a program to check if a word exists in a given string.\n",
    "5. Convert a string to uppercase and count how many vowels it has."
   ]
  },
  {
   "cell_type": "code",
   "execution_count": null,
   "id": "d8a831d1",
   "metadata": {},
   "outputs": [],
   "source": [
    "# Write your practice code here\n"
   ]
  }
 ],
 "metadata": {
  "kernelspec": {
   "display_name": "Python 3 (ipykernel)",
   "language": "python",
   "name": "python3"
  },
  "language_info": {
   "codemirror_mode": {
    "name": "ipython",
    "version": 3
   },
   "file_extension": ".py",
   "mimetype": "text/x-python",
   "name": "python",
   "nbconvert_exporter": "python",
   "pygments_lexer": "ipython3",
   "version": "3.11.5"
  }
 },
 "nbformat": 4,
 "nbformat_minor": 5
}
