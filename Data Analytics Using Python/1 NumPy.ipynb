{
 "cells": [
  {
   "cell_type": "markdown",
   "id": "3b4cee16",
   "metadata": {},
   "source": [
    "# Numerical Analysis using Python\n"
   ]
  },
  {
   "cell_type": "markdown",
   "id": "07dcdcde",
   "metadata": {},
   "source": [
    "## What is NumPy?\n",
    "NumPy (Numerical Python) is a Python library for numerical computing. It provides:\n",
    "- Efficient array operations\n",
    "- Mathematical and logical operations\n",
    "- Linear algebra, Fourier transform, and more.\n",
    "\n",
    "Let's start by importing NumPy."
   ]
  },
  {
   "cell_type": "code",
   "execution_count": 7,
   "id": "c8b9ff9e",
   "metadata": {},
   "outputs": [
    {
     "data": {
      "text/plain": [
       "array([1, 4, 9])"
      ]
     },
     "execution_count": 7,
     "metadata": {},
     "output_type": "execute_result"
    }
   ],
   "source": [
    "a=[1,2,3]\n",
    "b=[20,30,10]\n",
    "\n",
    "import numpy as np\n",
    "a1=np.array(a)\n",
    "b1=np.array(b)\n",
    "\n",
    "a1+b1\n",
    "a1*b1\n",
    "a1**2"
   ]
  },
  {
   "cell_type": "code",
   "execution_count": 8,
   "id": "0ea50d66",
   "metadata": {},
   "outputs": [
    {
     "name": "stdout",
     "output_type": "stream",
     "text": [
      "1.23.5\n"
     ]
    }
   ],
   "source": [
    "import numpy as np\n",
    "print(np.__version__)"
   ]
  },
  {
   "cell_type": "markdown",
   "id": "1ca126a8",
   "metadata": {},
   "source": [
    "## 1. Array Creation\n",
    "NumPy arrays are more efficient than Python lists for numerical computations."
   ]
  },
  {
   "cell_type": "code",
   "execution_count": 9,
   "id": "2c04df6f",
   "metadata": {},
   "outputs": [
    {
     "name": "stdout",
     "output_type": "stream",
     "text": [
      "Array: [1 2 3]\n",
      "Type: <class 'numpy.ndarray'>\n"
     ]
    }
   ],
   "source": [
    "# Creating arrays\n",
    "arr = np.array([1, 2, 3])\n",
    "print('Array:', arr)\n",
    "print('Type:', type(arr))"
   ]
  },
  {
   "cell_type": "code",
   "execution_count": 12,
   "id": "f48fde05",
   "metadata": {},
   "outputs": [
    {
     "data": {
      "text/plain": [
       "array([[0, 0, 0],\n",
       "       [0, 0, 0]])"
      ]
     },
     "execution_count": 12,
     "metadata": {},
     "output_type": "execute_result"
    }
   ],
   "source": [
    "## Different ways of creating arrays\n",
    "zeros = np.zeros((2, 3),dtype=int)\n",
    "zeros"
   ]
  },
  {
   "cell_type": "code",
   "execution_count": 15,
   "id": "47016731",
   "metadata": {},
   "outputs": [
    {
     "data": {
      "text/plain": [
       "array([[1., 1., 1.],\n",
       "       [1., 1., 1.],\n",
       "       [1., 1., 1.]])"
      ]
     },
     "execution_count": 15,
     "metadata": {},
     "output_type": "execute_result"
    }
   ],
   "source": [
    "o = np.ones((3, 3))\n",
    "o"
   ]
  },
  {
   "cell_type": "code",
   "execution_count": 17,
   "id": "d03d36e2",
   "metadata": {},
   "outputs": [
    {
     "data": {
      "text/plain": [
       "array([[[1, 1],\n",
       "        [1, 1]],\n",
       "\n",
       "       [[1, 1],\n",
       "        [1, 1]],\n",
       "\n",
       "       [[1, 1],\n",
       "        [1, 1]]])"
      ]
     },
     "execution_count": 17,
     "metadata": {},
     "output_type": "execute_result"
    }
   ],
   "source": [
    "z=np.ones((3,2,2),dtype=int)\n",
    "z"
   ]
  },
  {
   "cell_type": "code",
   "execution_count": 28,
   "id": "f611f788",
   "metadata": {},
   "outputs": [
    {
     "data": {
      "text/plain": [
       "array([[20, 18, 16],\n",
       "       [14, 12, 10]])"
      ]
     },
     "execution_count": 28,
     "metadata": {},
     "output_type": "execute_result"
    }
   ],
   "source": [
    "a2 = np.arange(20, 8, -2)\n",
    "a2\n",
    "a3=a2.reshape((2,3))\n",
    "a3"
   ]
  },
  {
   "cell_type": "code",
   "execution_count": 134,
   "id": "db45e0d4",
   "metadata": {},
   "outputs": [
    {
     "data": {
      "text/plain": [
       "array([ 5, 10, 15])"
      ]
     },
     "execution_count": 134,
     "metadata": {},
     "output_type": "execute_result"
    }
   ],
   "source": [
    "z=np.full((3),fill_value=(5,10,15),dtype=int)\n",
    "z"
   ]
  },
  {
   "cell_type": "code",
   "execution_count": 135,
   "id": "726a4c61",
   "metadata": {},
   "outputs": [
    {
     "data": {
      "text/plain": [
       "array([[1, 2, 3],\n",
       "       [1, 2, 3],\n",
       "       [1, 2, 3]])"
      ]
     },
     "execution_count": 135,
     "metadata": {},
     "output_type": "execute_result"
    }
   ],
   "source": [
    "z=np.full((3,3),fill_value=(1,2,3),dtype=int)\n",
    "z"
   ]
  },
  {
   "cell_type": "markdown",
   "id": "1dde1b26",
   "metadata": {},
   "source": [
    "## Quick Practice:\n",
    "- Create an array using arange function starting with 50 and end with 10.\n",
    "- reshape it to 2D array"
   ]
  },
  {
   "cell_type": "code",
   "execution_count": 31,
   "id": "08f002e4",
   "metadata": {},
   "outputs": [
    {
     "data": {
      "text/plain": [
       "array([0. , 0.5, 1. ])"
      ]
     },
     "execution_count": 31,
     "metadata": {},
     "output_type": "execute_result"
    }
   ],
   "source": [
    "linspace = np.linspace(0, 1, 3)\n",
    "linspace"
   ]
  },
  {
   "cell_type": "markdown",
   "id": "d3169cca",
   "metadata": {},
   "source": [
    "## Different Dimensions "
   ]
  },
  {
   "cell_type": "code",
   "execution_count": 32,
   "id": "d44f775e",
   "metadata": {},
   "outputs": [
    {
     "name": "stdout",
     "output_type": "stream",
     "text": [
      "1D Array:\n",
      "[1 2 3 4 5]\n",
      "Shape: (5,)\n",
      "\n"
     ]
    }
   ],
   "source": [
    "# 1D Array\n",
    "array_1d = np.array([1, 2, 3, 4, 5])\n",
    "print(\"1D Array:\")\n",
    "print(array_1d)\n",
    "print(\"Shape:\", array_1d.shape)\n",
    "print()\n"
   ]
  },
  {
   "cell_type": "code",
   "execution_count": 49,
   "id": "1bdf54cc",
   "metadata": {},
   "outputs": [
    {
     "name": "stdout",
     "output_type": "stream",
     "text": [
      "2D Array:\n",
      "[[1 2 3]\n",
      " [4 5 6]]\n",
      "Shape: (2, 3)\n",
      "\n"
     ]
    }
   ],
   "source": [
    "# 2D Array\n",
    "a_2 = np.array([[1, 2, 3], [4, 5, 6]])\n",
    "print(\"2D Array:\")\n",
    "print(a_2)\n",
    "print(\"Shape:\", a_2.shape)\n",
    "print()"
   ]
  },
  {
   "cell_type": "code",
   "execution_count": 34,
   "id": "4b015f28",
   "metadata": {},
   "outputs": [
    {
     "name": "stdout",
     "output_type": "stream",
     "text": [
      "3D Array:\n",
      "[[[ 1  2  3]\n",
      "  [ 4  5  6]]\n",
      "\n",
      " [[ 7  8  9]\n",
      "  [10 11 12]]]\n",
      "Shape: (2, 2, 3)\n"
     ]
    }
   ],
   "source": [
    "# 3D Array\n",
    "array_3d = np.array([[[1, 2, 3], [4, 5, 6]],\n",
    "                     [[7, 8, 9], [10, 11, 12]]])\n",
    "print(\"3D Array:\")\n",
    "print(array_3d)\n",
    "print(\"Shape:\", array_3d.shape)\n"
   ]
  },
  {
   "cell_type": "markdown",
   "id": "ddc80788",
   "metadata": {},
   "source": [
    "**Quick Practice:**\n",
    "1. Create a 4x4 matrix of all fives.\n",
    "2. Create an array of 20 numbers between 10 and 50 (inclusive)."
   ]
  },
  {
   "cell_type": "markdown",
   "id": "ad0ea079",
   "metadata": {},
   "source": [
    "## 2. Array Attributes"
   ]
  },
  {
   "cell_type": "code",
   "execution_count": 35,
   "id": "1d719ecc",
   "metadata": {},
   "outputs": [
    {
     "name": "stdout",
     "output_type": "stream",
     "text": [
      "Shape: (2, 3)\n",
      "Size: 6\n",
      "Data Type: int32\n",
      "Dimension: 2\n"
     ]
    }
   ],
   "source": [
    "a = np.array([[1,2,3],[4,5,6]])\n",
    "print('Shape:', a.shape)\n",
    "print('Size:', a.size)\n",
    "print('Data Type:', a.dtype)\n",
    "print('Dimension:', a.ndim)"
   ]
  },
  {
   "cell_type": "markdown",
   "id": "48256037",
   "metadata": {},
   "source": [
    "## 3. Indexing and Slicing"
   ]
  },
  {
   "cell_type": "code",
   "execution_count": 46,
   "id": "217580b6",
   "metadata": {},
   "outputs": [
    {
     "data": {
      "text/plain": [
       "array([1, 2, 3, 4, 5])"
      ]
     },
     "execution_count": 46,
     "metadata": {},
     "output_type": "execute_result"
    }
   ],
   "source": [
    "array_1d"
   ]
  },
  {
   "cell_type": "code",
   "execution_count": 48,
   "id": "d3bc6a2c",
   "metadata": {},
   "outputs": [
    {
     "data": {
      "text/plain": [
       "2"
      ]
     },
     "execution_count": 48,
     "metadata": {},
     "output_type": "execute_result"
    }
   ],
   "source": [
    "array_1d[1:3]\n",
    "array_1d[1]"
   ]
  },
  {
   "cell_type": "code",
   "execution_count": 50,
   "id": "dc7dc4a7",
   "metadata": {},
   "outputs": [
    {
     "data": {
      "text/plain": [
       "array([[1, 2, 3],\n",
       "       [4, 5, 6]])"
      ]
     },
     "execution_count": 50,
     "metadata": {},
     "output_type": "execute_result"
    }
   ],
   "source": [
    "a_2 "
   ]
  },
  {
   "cell_type": "code",
   "execution_count": 54,
   "id": "43250507",
   "metadata": {},
   "outputs": [
    {
     "data": {
      "text/plain": [
       "5"
      ]
     },
     "execution_count": 54,
     "metadata": {},
     "output_type": "execute_result"
    }
   ],
   "source": [
    "a_2[1,1]"
   ]
  },
  {
   "cell_type": "code",
   "execution_count": 59,
   "id": "054c8a12",
   "metadata": {},
   "outputs": [
    {
     "data": {
      "text/plain": [
       "array([[[ 1,  2,  3],\n",
       "        [ 4,  5,  6]],\n",
       "\n",
       "       [[ 7,  8,  9],\n",
       "        [10, 11, 12]]])"
      ]
     },
     "execution_count": 59,
     "metadata": {},
     "output_type": "execute_result"
    }
   ],
   "source": [
    "array_3d"
   ]
  },
  {
   "cell_type": "code",
   "execution_count": 63,
   "id": "c181bd9c",
   "metadata": {},
   "outputs": [
    {
     "data": {
      "text/plain": [
       "3"
      ]
     },
     "execution_count": 63,
     "metadata": {},
     "output_type": "execute_result"
    }
   ],
   "source": [
    "array_3d[0,0,2]"
   ]
  },
  {
   "cell_type": "code",
   "execution_count": 65,
   "id": "593826e6",
   "metadata": {},
   "outputs": [
    {
     "data": {
      "text/plain": [
       "array([[11, 12]])"
      ]
     },
     "execution_count": 65,
     "metadata": {},
     "output_type": "execute_result"
    }
   ],
   "source": [
    "array_3d[1,1:3,1:3]"
   ]
  },
  {
   "cell_type": "code",
   "execution_count": 62,
   "id": "db85be94",
   "metadata": {},
   "outputs": [
    {
     "data": {
      "text/plain": [
       "array([ 8, 11])"
      ]
     },
     "execution_count": 62,
     "metadata": {},
     "output_type": "execute_result"
    }
   ],
   "source": [
    "array_3d[1,:,1]"
   ]
  },
  {
   "cell_type": "markdown",
   "id": "85ed72ad",
   "metadata": {},
   "source": [
    "**Quick Practice:**\n",
    "1. Extract every 2nd element from an array of numbers 0-20.\n",
    "2. From a 3x3 matrix, extract the last column."
   ]
  },
  {
   "cell_type": "markdown",
   "id": "64969e99",
   "metadata": {},
   "source": [
    "## 4. Array Operations (Element-wise)"
   ]
  },
  {
   "cell_type": "code",
   "execution_count": 66,
   "id": "6fa9d870",
   "metadata": {},
   "outputs": [
    {
     "name": "stdout",
     "output_type": "stream",
     "text": [
      "Addition: [5 7 9]\n",
      "Multiplication: [ 4 10 18]\n",
      "Dot Product: 32\n"
     ]
    }
   ],
   "source": [
    "x = np.array([1,2,3])\n",
    "y = np.array([4,5,6])\n",
    "print('Addition:', x + y)\n",
    "print('Multiplication:', x * y)\n",
    "print('Dot Product:', np.dot(x, y))"
   ]
  },
  {
   "cell_type": "markdown",
   "id": "f1b9236d",
   "metadata": {},
   "source": [
    "## 5. Universal Functions (ufuncs)"
   ]
  },
  {
   "cell_type": "code",
   "execution_count": null,
   "id": "6aa2b27f",
   "metadata": {},
   "outputs": [],
   "source": [
    "arr = np.array([1,4,9,16])\n",
    "print('Square root:', np.sqrt(arr))\n",
    "print('Exponential:', np.exp(arr))\n",
    "print('Sine:', np.sin(arr))"
   ]
  },
  {
   "cell_type": "markdown",
   "id": "637692e5",
   "metadata": {},
   "source": [
    "## 6. Reshape and Transpose"
   ]
  },
  {
   "cell_type": "code",
   "execution_count": 70,
   "id": "faf9ba2e",
   "metadata": {},
   "outputs": [
    {
     "name": "stdout",
     "output_type": "stream",
     "text": [
      "Reshaped: [[ 0  1  2  3]\n",
      " [ 4  5  6  7]\n",
      " [ 8  9 10 11]]\n",
      "Transpose: [[ 0  4  8]\n",
      " [ 1  5  9]\n",
      " [ 2  6 10]\n",
      " [ 3  7 11]]\n"
     ]
    },
    {
     "data": {
      "text/plain": [
       "array([[ 0,  4,  8],\n",
       "       [ 1,  5,  9],\n",
       "       [ 2,  6, 10],\n",
       "       [ 3,  7, 11]])"
      ]
     },
     "execution_count": 70,
     "metadata": {},
     "output_type": "execute_result"
    }
   ],
   "source": [
    "a = np.arange(12)\n",
    "reshaped = a.reshape(3,4)\n",
    "print('Reshaped:', reshaped)\n",
    "print('Transpose:', reshaped.T)\n",
    "reshaped.T"
   ]
  },
  {
   "cell_type": "markdown",
   "id": "eaf1225c",
   "metadata": {},
   "source": [
    "## 7. Stacking and Splitting"
   ]
  },
  {
   "cell_type": "code",
   "execution_count": 85,
   "id": "a27fd2c6",
   "metadata": {},
   "outputs": [
    {
     "data": {
      "text/plain": [
       "array([[1, 2],\n",
       "       [3, 4]])"
      ]
     },
     "execution_count": 85,
     "metadata": {},
     "output_type": "execute_result"
    }
   ],
   "source": [
    "a = np.array([[1,2],[3,4]])\n",
    "b = np.array([[5,6],[7,8]])\n",
    "a"
   ]
  },
  {
   "cell_type": "code",
   "execution_count": 87,
   "id": "e3b67d8d",
   "metadata": {},
   "outputs": [
    {
     "name": "stdout",
     "output_type": "stream",
     "text": [
      "(2, 2)\n"
     ]
    },
    {
     "data": {
      "text/plain": [
       "array([[1, 2],\n",
       "       [3, 4],\n",
       "       [5, 6],\n",
       "       [7, 8]])"
      ]
     },
     "execution_count": 87,
     "metadata": {},
     "output_type": "execute_result"
    }
   ],
   "source": [
    "v_p= np.vstack((a,b))\n",
    "type(v_p)\n",
    "print(a.shape)\n",
    "v_p.shape\n",
    "v_p"
   ]
  },
  {
   "cell_type": "code",
   "execution_count": 88,
   "id": "2e0b1092",
   "metadata": {},
   "outputs": [
    {
     "data": {
      "text/plain": [
       "array([[1, 2, 5, 6],\n",
       "       [3, 4, 7, 8]])"
      ]
     },
     "execution_count": 88,
     "metadata": {},
     "output_type": "execute_result"
    }
   ],
   "source": [
    "h_p = np.hstack((a,b))\n",
    "h_p.shape\n",
    "h_p"
   ]
  },
  {
   "cell_type": "markdown",
   "id": "0d15fabe",
   "metadata": {},
   "source": [
    "## 8. Broadcasting\n",
    "Computation between array of differrent shapes\n",
    "- smaller array should always of  **1*n shape** , where n = number of colums in higher order array "
   ]
  },
  {
   "cell_type": "code",
   "execution_count": 100,
   "id": "31eef560",
   "metadata": {},
   "outputs": [
    {
     "data": {
      "text/plain": [
       "array([1, 2, 0])"
      ]
     },
     "execution_count": 100,
     "metadata": {},
     "output_type": "execute_result"
    }
   ],
   "source": [
    "a=np.array([1,2,0]) # 1*3\n",
    "a"
   ]
  },
  {
   "cell_type": "code",
   "execution_count": 101,
   "id": "3d32bdf0",
   "metadata": {},
   "outputs": [
    {
     "data": {
      "text/plain": [
       "array([[2, 2, 2],\n",
       "       [1, 1, 1],\n",
       "       [3, 3, 3]])"
      ]
     },
     "execution_count": 101,
     "metadata": {},
     "output_type": "execute_result"
    }
   ],
   "source": [
    "b=np.array([[2,2,2],[1,1,1],[3,3,3]]) # 3*3\n",
    "b"
   ]
  },
  {
   "cell_type": "code",
   "execution_count": 102,
   "id": "8639dcdf",
   "metadata": {},
   "outputs": [],
   "source": [
    "d=a+b"
   ]
  },
  {
   "cell_type": "markdown",
   "id": "57be282e",
   "metadata": {},
   "source": [
    "## 9. Random Module"
   ]
  },
  {
   "cell_type": "code",
   "execution_count": 116,
   "id": "923468f3",
   "metadata": {},
   "outputs": [
    {
     "data": {
      "text/plain": [
       "array([[0.59986582, 0.44095902, 0.15436578],\n",
       "       [0.59329516, 0.71232562, 0.70069948],\n",
       "       [0.73242941, 0.11822785, 0.70461349]])"
      ]
     },
     "execution_count": 116,
     "metadata": {},
     "output_type": "execute_result"
    }
   ],
   "source": [
    "\n",
    "r = np.random.rand(3,3)\n",
    "r"
   ]
  },
  {
   "cell_type": "code",
   "execution_count": 123,
   "id": "5a18bb94",
   "metadata": {},
   "outputs": [
    {
     "data": {
      "text/plain": [
       "array([[90, 20],\n",
       "       [37, 39]])"
      ]
     },
     "execution_count": 123,
     "metadata": {},
     "output_type": "execute_result"
    }
   ],
   "source": [
    "r_int = np.random.randint(0,100,(2,2))\n",
    "r_int"
   ]
  },
  {
   "cell_type": "code",
   "execution_count": 128,
   "id": "e481f5c9",
   "metadata": {},
   "outputs": [
    {
     "data": {
      "text/plain": [
       "array([[0.5488135 , 0.71518937, 0.60276338],\n",
       "       [0.54488318, 0.4236548 , 0.64589411],\n",
       "       [0.43758721, 0.891773  , 0.96366276]])"
      ]
     },
     "execution_count": 128,
     "metadata": {},
     "output_type": "execute_result"
    }
   ],
   "source": [
    "### Use seed to fix random generated values\n",
    "np.random.seed(0)\n",
    "r = np.random.rand(3,3)\n",
    "r"
   ]
  },
  {
   "cell_type": "code",
   "execution_count": 125,
   "id": "10a1abe4",
   "metadata": {},
   "outputs": [
    {
     "data": {
      "text/plain": [
       "8"
      ]
     },
     "execution_count": 125,
     "metadata": {},
     "output_type": "execute_result"
    }
   ],
   "source": [
    "## Use seed to fix random generated values\n",
    "np.random.seed(2)\n",
    "r_int = np.random.randint(0,10)\n",
    "r_int"
   ]
  },
  {
   "cell_type": "markdown",
   "id": "0883506d",
   "metadata": {},
   "source": [
    "## 10. Linear Algebra"
   ]
  },
  {
   "cell_type": "code",
   "execution_count": 129,
   "id": "83f1e880",
   "metadata": {},
   "outputs": [
    {
     "name": "stdout",
     "output_type": "stream",
     "text": [
      "Determinant: -2.0000000000000004\n",
      "Inverse: [[-2.   1. ]\n",
      " [ 1.5 -0.5]]\n",
      "Eigenvalues: [-0.37228132  5.37228132]\n"
     ]
    }
   ],
   "source": [
    "matrix = np.array([[1,2],[3,4]])\n",
    "print('Determinant:', np.linalg.det(matrix))\n",
    "print('Inverse:', np.linalg.inv(matrix))\n",
    "print('Eigenvalues:', np.linalg.eig(matrix)[0])"
   ]
  },
  {
   "cell_type": "markdown",
   "id": "b1496dc8",
   "metadata": {},
   "source": [
    "## 11. Advanced Functions"
   ]
  },
  {
   "cell_type": "code",
   "execution_count": 130,
   "id": "c44928df",
   "metadata": {},
   "outputs": [
    {
     "name": "stdout",
     "output_type": "stream",
     "text": [
      "['No' 'No' 'Yes' 'Yes' 'Yes']\n"
     ]
    }
   ],
   "source": [
    "# Where condition\n",
    "arr = np.array([10,20,30,40,50])\n",
    "print(np.where(arr>25, 'Yes', 'No'))"
   ]
  },
  {
   "cell_type": "code",
   "execution_count": 131,
   "id": "6559b6d9",
   "metadata": {},
   "outputs": [
    {
     "name": "stdout",
     "output_type": "stream",
     "text": [
      "Unique: [-9  1  2  3  4 65 80]\n"
     ]
    }
   ],
   "source": [
    "# Unique and Sorting\n",
    "vals = np.array([1,2,2,3,3,3,4,-9,80,65,65,])\n",
    "print('Unique:', np.unique(vals))"
   ]
  },
  {
   "cell_type": "code",
   "execution_count": 132,
   "id": "22bfd226",
   "metadata": {},
   "outputs": [
    {
     "data": {
      "text/plain": [
       "array([-9,  1,  2,  2,  3,  3,  3,  4, 65, 65, 80])"
      ]
     },
     "execution_count": 132,
     "metadata": {},
     "output_type": "execute_result"
    }
   ],
   "source": [
    "np.sort(vals)"
   ]
  }
 ],
 "metadata": {
  "kernelspec": {
   "display_name": "Python 3 (ipykernel)",
   "language": "python",
   "name": "python3"
  },
  "language_info": {
   "codemirror_mode": {
    "name": "ipython",
    "version": 3
   },
   "file_extension": ".py",
   "mimetype": "text/x-python",
   "name": "python",
   "nbconvert_exporter": "python",
   "pygments_lexer": "ipython3",
   "version": "3.11.5"
  }
 },
 "nbformat": 4,
 "nbformat_minor": 5
}
