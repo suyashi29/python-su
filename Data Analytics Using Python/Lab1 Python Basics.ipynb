{
 "cells": [
  {
   "cell_type": "markdown",
   "id": "41e02190",
   "metadata": {},
   "source": [
    "### Question 1: Student Grade Calculator\n",
    "\n",
    "#### Write a Python script that:\n",
    "\n",
    "- Takes student names and their marks (out of 100) as input from the user in a loop (until the user types \"stop\").\n",
    "\n",
    "- Stores this information in a dictionary where the key is the student name and the value is the marks.\n",
    "\n",
    "- After input is complete, iterate through the dictionary and:\n",
    "\n",
    "- Print each student's name with their grade based on the following rules:\n",
    "\n",
    "           90-100: Grade A\n",
    "\n",
    "           75-89: Grade B\n",
    "\n",
    "           50-74: Grade C\n",
    "\n",
    "          Below 50: Grade F"
   ]
  },
  {
   "cell_type": "code",
   "execution_count": 1,
   "id": "05e9e583",
   "metadata": {},
   "outputs": [
    {
     "name": "stdout",
     "output_type": "stream",
     "text": [
      "Enter student name (or 'stop' to finish): Ojes\n",
      "Enter marks for Ojes: 90\n",
      "Enter student name (or 'stop' to finish): Ashi\n",
      "Enter marks for Ashi: 100\n",
      "Enter student name (or 'stop' to finish): 50\n",
      "Enter marks for 50: 50\n",
      "Enter student name (or 'stop' to finish): stop\n",
      "\n",
      "Grades:\n",
      "Ojes: A\n",
      "Ashi: A\n",
      "50: C\n"
     ]
    }
   ],
   "source": [
    "# Student Grade Calculator\n",
    "\n",
    "# Initialize an empty dictionary\n",
    "students = {}\n",
    "\n",
    "while True:\n",
    "    name = input(\"Enter student name (or 'stop' to finish): \")\n",
    "    if name.lower() == 'stop':\n",
    "        break\n",
    "    marks = int(input(f\"Enter marks for {name}: \"))\n",
    "    students[name] = marks\n",
    "\n",
    "print(\"\\nGrades:\")\n",
    "for student, marks in students.items():\n",
    "    if marks >= 90:\n",
    "        grade = 'A'\n",
    "    elif marks >= 75:\n",
    "        grade = 'B'\n",
    "    elif marks >= 50:\n",
    "        grade = 'C'\n",
    "    else:\n",
    "        grade = 'F'\n",
    "    print(f\"{student}: {grade}\")\n"
   ]
  },
  {
   "cell_type": "markdown",
   "id": "8e1886ab",
   "metadata": {},
   "source": [
    "## Question 2: Word Frequency Counter\n",
    "### Write a Python script that:\n",
    "\n",
    "- Takes a sentence as input from the user.\n",
    "- Splits the sentence into words and counts the frequency of each word using a dictionary.\n",
    "- Print the frequency of each word, and also:\n",
    "- If a word appears more than 3 times, print \"High Frequency\" next to it.\n",
    "- Otherwise, print \"Normal Frequency\""
   ]
  },
  {
   "cell_type": "code",
   "execution_count": 3,
   "id": "ffb69391",
   "metadata": {},
   "outputs": [
    {
     "name": "stdout",
     "output_type": "stream",
     "text": [
      "Enter a sentence: happy happy sad sad\n",
      "\n",
      "Word Frequencies:\n",
      "happy: 2 -> Normal Frequency\n",
      "sad: 2 -> Normal Frequency\n"
     ]
    }
   ],
   "source": [
    "# Word Frequency Counter\n",
    "\n",
    "sentence = input(\"Enter a sentence: \")\n",
    "words = sentence.split()\n",
    "\n",
    "# Initialize an empty dictionary for word count\n",
    "word_count = {}\n",
    "\n",
    "# Count frequency of each word\n",
    "for word in words:\n",
    "    word = word.lower()  # Convert to lowercase for consistency\n",
    "    if word in word_count:\n",
    "        word_count[word] += 1\n",
    "    else:\n",
    "        word_count[word] = 1\n",
    "\n",
    "# Display results\n",
    "print(\"\\nWord Frequencies:\")\n",
    "for word, count in word_count.items():\n",
    "    if count > 3:\n",
    "        status = \"High Frequency\"\n",
    "    else:\n",
    "        status = \"Normal Frequency\"\n",
    "    print(f\"{word}: {count} -> {status}\")\n"
   ]
  },
  {
   "cell_type": "code",
   "execution_count": null,
   "id": "b31b863c",
   "metadata": {},
   "outputs": [],
   "source": []
  }
 ],
 "metadata": {
  "kernelspec": {
   "display_name": "Python 3 (ipykernel)",
   "language": "python",
   "name": "python3"
  },
  "language_info": {
   "codemirror_mode": {
    "name": "ipython",
    "version": 3
   },
   "file_extension": ".py",
   "mimetype": "text/x-python",
   "name": "python",
   "nbconvert_exporter": "python",
   "pygments_lexer": "ipython3",
   "version": "3.11.5"
  }
 },
 "nbformat": 4,
 "nbformat_minor": 5
}
